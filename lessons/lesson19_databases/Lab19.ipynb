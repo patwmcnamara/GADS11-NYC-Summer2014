{
 "metadata": {
  "name": "",
  "signature": "sha256:c6394ef1cfecedf2d659230ac86076e65b21cb95bbb5456f41b17b45eded7cd2"
 },
 "nbformat": 3,
 "nbformat_minor": 0,
 "worksheets": [
  {
   "cells": [
    {
     "cell_type": "markdown",
     "metadata": {},
     "source": [
      "# Databases\n",
      "\n",
      "Databases are a huge field. Let's start with the essentials."
     ]
    },
    {
     "cell_type": "code",
     "collapsed": false,
     "input": [
      "from IPython.display import HTML\n",
      "HTML('''\n",
      "<style>\n",
      ".text_cell_render {\n",
      "  background-color: cyan;\n",
      "}\n",
      "</style>\n",
      "''')"
     ],
     "language": "python",
     "metadata": {},
     "outputs": [
      {
       "html": [
        "\n",
        "<style>\n",
        ".text_cell_render {\n",
        "  background-color: cyan;\n",
        "}\n",
        "</style>\n"
       ],
       "metadata": {},
       "output_type": "pyout",
       "prompt_number": 1,
       "text": [
        "<IPython.core.display.HTML at 0x10300e310>"
       ]
      }
     ],
     "prompt_number": 1
    },
    {
     "cell_type": "markdown",
     "metadata": {},
     "source": [
      "# Part 1: Online SQL playground\n",
      "\n",
      "We'll be playing with the live database available at [W3Schools](http://www.w3schools.com/sql/trysql.asp?filename=trysql_select_all)\n",
      "\n",
      "They also offer decent [SQL docs here](http://www.w3schools.com/sql/sql_select.asp).\n",
      "\n",
      "Let's walk through a few examples:\n",
      "\n",
      "**1) Retrieve all Customers from Madrid**\n",
      "\n",
      "```SQL\n",
      "SELECT * FROM Customers WHERE City='Madrid'\n",
      "```\n",
      "\n",
      "**2) What is the most common city for customers?**\n",
      "\n",
      "```SQL\n",
      "SELECT City, COUNT(CustomerID) FROM Customers GROUP BY City\n",
      "```\n",
      "\n",
      "**3) What category has the most products?**\n",
      "\n",
      "```SQL\n",
      "SELECT CategoryName, COUNT( *) FROM Categories\n",
      "JOIN Products on (Categories.CategoryID = Products.CategoryID)\n",
      "GROUP BY CategoryName\n",
      "```"
     ]
    },
    {
     "cell_type": "markdown",
     "metadata": {},
     "source": [
      "** Write SQL queries that answer the following questions. **\n",
      "\n",
      "New concepts and the size of the result is given in parentheses. Look up the documentation linked above for more information about each new concept. Don't expect to finish all of these in class. I have to send you home with extra material to whet your appetite.\n",
      "\n",
      "1. What customers are from the UK? (7 rows)\n",
      "1. Find 2 customers from the UK. (`LIMIT`, 2 rows)\n",
      "2. What are the ids and names of the customers with the 10 smallest CustomerIDs? (`ORDER BY`, 10 rows, 2 columns)\n",
      "2. What are the ids and names of the customers with the 10 highest CustomerIDs? (`DESC`, 10 rows, 2 columns)\n",
      "2. How many customers are from each country? (`GROUP BY`, 21 rows, 2 columns)\n",
      "2. What country provides the most customers? (1 row, 1 column)\n",
      "2. What is the id of the customer who has the most orders? (1 row, 1 column)\n",
      "2. What is the name of the customer who has the most orders? ([`JOIN`](http://www.codinghorror.com/blog/2007/10/a-visual-explanation-of-sql-joins.html), 1 row, 1 column)\n",
      "3. What are the names of the customers who only have one order? (`HAVING`, 22 rows, 1 column)\n",
      "4. What was the total price of OrderID = 10253? (1806)\n",
      "3. What supplier has the highest average product price? (Aux joyeux eccl\ufffdsiastiques)\n",
      "8. What supplier has the highest average product price and more than 2 products? (Tokyo Traders)\n",
      "7. What employees have BS degrees? (`LIKE`, 2 rows)"
     ]
    },
    {
     "cell_type": "markdown",
     "metadata": {},
     "source": [
      "** *Submit these SQL queries as a .sql file to GitHub, using SQL comments to have the question referring to each:* **\n",
      "\n",
      "I'll get the file started for you. Run the following cell."
     ]
    },
    {
     "cell_type": "code",
     "collapsed": false,
     "input": [
      "%%writefile w3c_questions.sql\n",
      "\n",
      "-- What customers are from the UK?\n",
      "SELECT *\n",
      "FROM Customers\n",
      "WHERE Country = 'UK'\n",
      "\n",
      "-- Find 2 customers from the UK.\n"
     ],
     "language": "python",
     "metadata": {},
     "outputs": []
    },
    {
     "cell_type": "markdown",
     "metadata": {},
     "source": [
      "# Part 2: SQL from Python\n",
      "\n",
      "SQL is great, but it only helps with your analyses if you can get the data into python. Let's start by populating a temporary SQLite database in memory. We'll use the Rotten Tomatoes dataset from before.\n",
      "\n",
      "##Step 1:\n",
      "read the data into python."
     ]
    },
    {
     "cell_type": "code",
     "collapsed": false,
     "input": [
      "import pandas as pd\n",
      "\n",
      "# load data from a csv file into a Pandas DataFrame.\n",
      "# the try block should work from your lab submission folder. The except block works from the lesson folder.\n",
      "\n",
      "try:\n",
      "    df = pd.read_csv('../../../lessons/lesson09_probability_naive_bayes/rt_critics.csv',\n",
      "                     parse_dates=[5],\n",
      "                     encoding='utf-8')\n",
      "except:\n",
      "    df = pd.read_csv('../lesson09_probability_naive_bayes/rt_critics.csv',\n",
      "                     parse_dates=[5],\n",
      "                     encoding='utf-8')\n",
      "\n",
      "df.head()"
     ],
     "language": "python",
     "metadata": {},
     "outputs": []
    },
    {
     "cell_type": "markdown",
     "metadata": {},
     "source": [
      "Note that the dataframe consists of a table with rows and columns. This maps perfectly to the relational model.\n",
      "\n",
      "## Step 2:\n",
      "Create a SQLite database in memory using SQLAlchemy. This library is a generic connector to various flavors of SQL databases. Ordinarily, the database needs to be running as a separate background process, or even on a separate server. But in the case of SQLite, it can be used to create the DB."
     ]
    },
    {
     "cell_type": "code",
     "collapsed": false,
     "input": [
      "from sqlalchemy import create_engine\n",
      "\n",
      "sqlite = create_engine('sqlite:///:memory:')"
     ],
     "language": "python",
     "metadata": {},
     "outputs": []
    },
    {
     "cell_type": "markdown",
     "metadata": {},
     "source": [
      "NOTES:\n",
      "\n",
      "For any other database, you would replace the argument of `create_engine()` with the appropriate connection string. Alternatively, to store a SQLite database as a persistent file instead of temporarily as we've done, you can replace `:memory:` with a path to the file. [Details for these patterns are here.](http://docs.sqlalchemy.org/en/rel_0_9/core/engines.html) Available DBs with SQLAlchemy include: PostgreSQL, MySQL, Oracle, SQL Server.\n",
      "\n",
      "## Step 3:\n",
      "Save the dataframe as a SQLite table"
     ]
    },
    {
     "cell_type": "code",
     "collapsed": false,
     "input": [
      "df.to_sql('tomato',\n",
      "          sqlite,              # the engine we just created\n",
      "          index=False,         # ignore the index from our dataframe since we didn't specify one.\n",
      "          if_exists='replace'  # if the table, 'tomato', exists, replace it.\n",
      "          )"
     ],
     "language": "python",
     "metadata": {},
     "outputs": []
    },
    {
     "cell_type": "markdown",
     "metadata": {},
     "source": [
      "**Congratulations!** You have a working SQL database. Now let's get data out of it with SQL queries."
     ]
    },
    {
     "cell_type": "code",
     "collapsed": false,
     "input": [
      "from pandas.io import sql\n",
      "%matplotlib inline\n",
      "\n",
      "# this is the function you'll use to execute SQL and return results as dataframes.\n",
      "# run this cell and read the documentation to learn how to use it.\n",
      "help(sql.read_sql)\n"
     ],
     "language": "python",
     "metadata": {},
     "outputs": []
    },
    {
     "cell_type": "markdown",
     "metadata": {},
     "source": [
      "## Step 4:\n",
      "\n",
      "Explore\n",
      "\n",
      "Fetch all of the data in your new SQL database back out into a dataframe and compare it to the original dataframe.\n",
      "\n",
      "Do the `.shape`s match? i.e. the numbers of row and columns?\n",
      "\n",
      "Do the column names match?\n",
      "\n",
      "Do the `.dtypes` of the columns match?\n",
      "\n",
      "If not, can you make them match?"
     ]
    },
    {
     "cell_type": "code",
     "collapsed": false,
     "input": [
      "data = sql.read_sql('replace with a proper query string', sqlite)\n",
      "# explore the data"
     ],
     "language": "python",
     "metadata": {},
     "outputs": []
    },
    {
     "cell_type": "code",
     "collapsed": false,
     "input": [
      "# explore more here."
     ],
     "language": "python",
     "metadata": {},
     "outputs": []
    },
    {
     "cell_type": "markdown",
     "metadata": {},
     "source": [
      "** More SQL/Pandas questions **\n",
      "\n",
      "Answer the following questions using the new database.\n",
      "\n",
      "How many reviews are from before the year 2000?\n",
      "\n",
      "What the publication had the highest number of 'fresh' reviews?\n",
      "\n",
      "What's the percentage of 'fresh' reviews overall per publication? (Cast integers to floats by multiplying by 1.0. [Another hint](http://stackoverflow.com/questions/14048098/count-distinct-with-conditions))\n",
      "\n",
      "Plot the number of reviews by year (See the [examples of modifiers](http://www.sqlite.org/lang_datefunc.html))."
     ]
    },
    {
     "cell_type": "code",
     "collapsed": false,
     "input": [
      "# How many reviews are from before the year 2000?\n"
     ],
     "language": "python",
     "metadata": {},
     "outputs": []
    },
    {
     "cell_type": "code",
     "collapsed": false,
     "input": [
      "# What the publication had the highest number of 'fresh' reviews?\n"
     ],
     "language": "python",
     "metadata": {},
     "outputs": []
    },
    {
     "cell_type": "code",
     "collapsed": false,
     "input": [
      "# What's the percentage of 'fresh' reviews overall per publication?\n"
     ],
     "language": "python",
     "metadata": {},
     "outputs": []
    },
    {
     "cell_type": "code",
     "collapsed": false,
     "input": [
      "# Plot the number of reviews by year\n"
     ],
     "language": "python",
     "metadata": {},
     "outputs": []
    },
    {
     "cell_type": "markdown",
     "metadata": {},
     "source": [
      "# Part 3: NoSQL (MongoDB Tutorial)\n",
      "\n",
      "Unfortunately, I know a bit of MongoDB. So we get to play with a bit of MongoDB. There are, of course more NoSQL solutions than any one person can name, and new ones arise constantly.\n",
      "[Comparison of NoSQL systems](http://kkovacs.eu/cassandra-vs-mongodb-vs-couchdb-vs-redis)\n",
      "\n",
      "Spend some time going through [the official interactive tutorial](http://try.mongodb.org) and [this other interactive MongoDB tutorial](http://mongly.openmymind.net/tutorial/index).\n",
      "\n",
      "Then read about [this nightmare story]() that resulted from the use of MongoDB."
     ]
    },
    {
     "cell_type": "markdown",
     "metadata": {},
     "source": [
      "# Part 4 (Optional):\n",
      "\n",
      "Mongo can be handy for quick personal projects. It's quick to set up and you don't have to think about designing schemas. Just don't expect it to scale well to a hundred servers. If you want to get a flavor for connecting to Mongo from Python, complete this section.\n",
      "\n",
      "If you're on a Mac, the following should work....\n",
      "\n",
      "```\n",
      "brew install mongodb\n",
      "pip install pymongo  # if this doesn't work, try sudo pip install pymongo\n",
      "mkdir ~/temp_mongo\n",
      "mongod --dbpath ~/temp_mongo\n",
      "```\n",
      "\n",
      "For Linux users, find your distro here: http://www.mongodb.org/downloads#packages\n",
      "The latter three steps should be the same.\n",
      "\n",
      "For Windows users, you can download binaries here: http://www.mongodb.org/downloads"
     ]
    },
    {
     "cell_type": "code",
     "collapsed": false,
     "input": [
      "from pymongo import MongoClient\n",
      "\n",
      "connection = MongoClient('localhost', 27017)\n",
      "db = connection['GA']\n",
      "collection = db['tomato']"
     ],
     "language": "python",
     "metadata": {},
     "outputs": []
    },
    {
     "cell_type": "code",
     "collapsed": false,
     "input": [
      "# store records in mongo\n",
      "for _, rec in df.iterrows():\n",
      "    collection.insert(rec.to_dict())"
     ],
     "language": "python",
     "metadata": {},
     "outputs": []
    },
    {
     "cell_type": "code",
     "collapsed": false,
     "input": [
      "# fetch the records back out. What do they look like?\n",
      "print collection.find({}).count(), 'total records'\n",
      "\n",
      "df = pd.DataFrame.from_records(collection.find({}), index='_id')\n",
      "df.head()"
     ],
     "language": "python",
     "metadata": {},
     "outputs": []
    },
    {
     "cell_type": "markdown",
     "metadata": {},
     "source": [
      "**Write some Mongo queries**\n",
      "\n",
      "Note: pymongo is slightly different from the javascript examples you went through in the tutorials. Most notably, the keys in the dictionary need to be encapsulated in quotes in python. You will probably want to refer the [pymongo reference](http://api.mongodb.org/python/current/) for this section. If you're not used to learning an API from reading the docs, this section is probably not worth your effort. Mongo isn't worth that much pain."
     ]
    },
    {
     "cell_type": "code",
     "collapsed": false,
     "input": [
      "# How many reviews are by Roger Ebert?\n"
     ],
     "language": "python",
     "metadata": {},
     "outputs": []
    },
    {
     "cell_type": "code",
     "collapsed": false,
     "input": [
      "# How many fresh reviews are by Roger Ebert?\n"
     ],
     "language": "python",
     "metadata": {},
     "outputs": []
    },
    {
     "cell_type": "code",
     "collapsed": false,
     "input": [
      "# Find one rotten review by Roger Ebert\n"
     ],
     "language": "python",
     "metadata": {},
     "outputs": []
    },
    {
     "cell_type": "code",
     "collapsed": false,
     "input": [
      "# Find all rotten reviews by Roger Ebert. Store in a DataFrame as in the example and print the head.\n"
     ],
     "language": "python",
     "metadata": {},
     "outputs": []
    },
    {
     "cell_type": "code",
     "collapsed": false,
     "input": [
      "# In which publications has Roger Ebert made fresh reviews?\n",
      "# This one will probably require munging in python instead of pure Mongo.\n"
     ],
     "language": "python",
     "metadata": {},
     "outputs": []
    },
    {
     "cell_type": "code",
     "collapsed": false,
     "input": [
      "# How many reviews are from before the year 2000?\n",
      "from datetime import datetime\n"
     ],
     "language": "python",
     "metadata": {},
     "outputs": []
    },
    {
     "cell_type": "markdown",
     "metadata": {},
     "source": [
      "# Further reading\n",
      "\n",
      "[More SQL exercises](http://sqlzoo.net/wiki/Main_Page)\n",
      "\n",
      "[CAP Theorem](http://en.wikipedia.org/wiki/CAP_theorem)\n",
      "\n",
      "[Response to CAP Theorem](http://www.infoq.com/articles/cap-twelve-years-later-how-the-rules-have-changed)"
     ]
    }
   ],
   "metadata": {}
  }
 ]
}