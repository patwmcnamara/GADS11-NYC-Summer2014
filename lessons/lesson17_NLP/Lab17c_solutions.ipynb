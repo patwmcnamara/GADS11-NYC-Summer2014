{
 "metadata": {
  "name": "",
  "signature": "sha256:6c2f4755dc47acccaa96439ebc9938748c05d09b50e4c4f73e5fa9972fe45144"
 },
 "nbformat": 3,
 "nbformat_minor": 0,
 "worksheets": [
  {
   "cells": [
    {
     "cell_type": "markdown",
     "metadata": {},
     "source": [
      "# stop words, tf-idf\n",
      "\n",
      "Let's investigate one of the most useful feature weightings, and how stop words derive naturally from that. To start, let's load a set of small documents."
     ]
    },
    {
     "cell_type": "code",
     "collapsed": false,
     "input": [
      "import pandas as pd\n",
      "import numpy as np"
     ],
     "language": "python",
     "metadata": {},
     "outputs": [],
     "prompt_number": 1
    },
    {
     "cell_type": "code",
     "collapsed": false,
     "input": [
      "# load data\n",
      "# the try block should work from your lab submission folder. The except block works from the lesson folder.\n",
      "\n",
      "try:\n",
      "    df = pd.read_csv('../../../lessons/lesson09_probability_naive_bayes/rt_critics.csv')\n",
      "except IOError:\n",
      "    df = pd.read_csv('../lesson09_probability_naive_bayes/rt_critics.csv')"
     ],
     "language": "python",
     "metadata": {},
     "outputs": [],
     "prompt_number": 2
    },
    {
     "cell_type": "code",
     "collapsed": false,
     "input": [
      "# It seems silly to call such short blurbs 'documents', but we'll stick with the NLP nomenclature.\n",
      "\n",
      "documents = list(df['quote'])\n",
      "documents[:5]"
     ],
     "language": "python",
     "metadata": {},
     "outputs": [
      {
       "metadata": {},
       "output_type": "pyout",
       "prompt_number": 3,
       "text": [
        "['So ingenious in concept, design and execution that you could watch it on a postage stamp-sized screen and still be engulfed by its charm.',\n",
        " \"The year's most inventive comedy.\",\n",
        " 'A winning animated feature that has something for everyone on the age spectrum.',\n",
        " \"The film sports a provocative and appealing story that's every bit the equal of this technical achievement.\",\n",
        " \"An entertaining computer-generated, hyperrealist animation feature (1995) that's also in effect a toy catalog.\"]"
       ]
      }
     ],
     "prompt_number": 3
    },
    {
     "cell_type": "markdown",
     "metadata": {},
     "source": [
      "## Document Frequency\n",
      "\n",
      "Let's start by calculating the document frequency for words in these documents. For this task, let's also remove all the punctuation marks and make everything lower-case."
     ]
    },
    {
     "cell_type": "code",
     "collapsed": false,
     "input": [
      "from nltk.tokenize import wordpunct_tokenize  # for tokenizing our text\n",
      "import string  # helps with removing punctuation\n",
      "from collections import Counter  # great dict-like datastructure for counting things"
     ],
     "language": "python",
     "metadata": {},
     "outputs": [],
     "prompt_number": 4
    },
    {
     "cell_type": "code",
     "collapsed": false,
     "input": [
      "# This is a bit of text cleanup\n",
      "word_bag_list = []\n",
      "for doc in documents:\n",
      "    cleaned = doc.replace('-', ' ')  # make lowercase and split hyphenated words in two\n",
      "    for c in string.punctuation:  # strip punctuation marks.\n",
      "        cleaned = cleaned.replace(c, '')\n",
      "    word_bag_list.append(wordpunct_tokenize(cleaned))\n",
      "\n",
      "# How do things look?\n",
      "print 'a few tokens:', word_bag_list[:3]\n",
      "\n",
      "# this flattens the nested lists into one big list for some stats\n",
      "token_list = []\n",
      "for tokens in word_bag_list:\n",
      "    token_list.extend(tokens)\n",
      "print 'number of tokens:', len(token_list)\n",
      "print 'number of unique tokens:', len(set(token_list))\n",
      "print 'number of documents:', len(word_bag_list)"
     ],
     "language": "python",
     "metadata": {},
     "outputs": [
      {
       "output_type": "stream",
       "stream": "stdout",
       "text": [
        "a few tokens: [['So', 'ingenious', 'in', 'concept', 'design', 'and', 'execution', 'that', 'you', 'could', 'watch', 'it', 'on', 'a', 'postage', 'stamp', 'sized', 'screen', 'and', 'still', 'be', 'engulfed', 'by', 'its', 'charm'], ['The', 'years', 'most', 'inventive', 'comedy'], ['A', 'winning', 'animated', 'feature', 'that', 'has', 'something', 'for', 'everyone', 'on', 'the', 'age', 'spectrum']]\n",
        "number of tokens: 280092\n",
        "number of unique tokens: 25183\n",
        "number of documents: 14072\n"
       ]
      }
     ],
     "prompt_number": 5
    },
    {
     "cell_type": "code",
     "collapsed": false,
     "input": [
      "# calculate the document frequency of all the unique tokens in the bags of words.\n",
      "\n",
      "df = Counter()  # initialize this dict-like thing.\n",
      "\n",
      "for doc in word_bag_list:\n",
      "    # FILL IN CODE\n",
      "    # count up the times words appear in INDIVIDUAL documents (not the total across all documents)\n",
      "    for token in set(doc):\n",
      "        df[token] += 1\n",
      "\n",
      "# normalize the counts by the number of documents (are you getting zeros? Think datatypes.)\n",
      "for token in df:\n",
      "    df[token] = df[token] / float(len(documents))\n",
      "\n",
      "# this prints the 20 highest-scoring words and their scores\n",
      "df.most_common(20)"
     ],
     "language": "python",
     "metadata": {},
     "outputs": [
      {
       "metadata": {},
       "output_type": "pyout",
       "prompt_number": 6,
       "text": [
        "[('the', 0.5431353041500853),\n",
        " ('and', 0.48493462194428655),\n",
        " ('of', 0.4633314383172257),\n",
        " ('a', 0.4279420125071063),\n",
        " ('is', 0.3306566230812962),\n",
        " ('to', 0.31907333712336555),\n",
        " ('in', 0.22527003979533827),\n",
        " ('that', 0.19783968163729393),\n",
        " ('The', 0.179363274587834),\n",
        " ('it', 0.16742467310972142),\n",
        " ('its', 0.15079590676520752),\n",
        " ('with', 0.14830869812393405),\n",
        " ('but', 0.13331438317225697),\n",
        " ('film', 0.12841102899374646),\n",
        " ('movie', 0.12833996588971006),\n",
        " ('for', 0.1186753837407618),\n",
        " ('as', 0.11725412166003411),\n",
        " ('A', 0.10481807845366686),\n",
        " ('this', 0.10424957362137578),\n",
        " ('an', 0.089681637293917)]"
       ]
      }
     ],
     "prompt_number": 6
    },
    {
     "cell_type": "markdown",
     "metadata": {},
     "source": [
      "## Stop Words\n",
      "\n",
      "Which words are likely to be stop words? The ones that show up in the most documents! These terms with the largest document frequency are the stopwords! The threshold above which you call something a stopword is up to you."
     ]
    },
    {
     "cell_type": "markdown",
     "metadata": {},
     "source": [
      "## tf-idf\n",
      "\n",
      "More interesting than stop-words is the tf-idf score. This tells us which words are most discriminative between documents. Words that occur a lot in one document but doesn't occur in many documents will tell you something special about the document:\n",
      "\n",
      "$$\n",
      "\\text{tf-idf} = tf \\cdot -\\log{df}\n",
      "$$\n",
      "\n",
      "recall that:\n",
      "\n",
      "$$\n",
      "\\log{x} = -\\log{1 \\over x}\n",
      "$$\n",
      "\n",
      "What are the most discriminative words in the first few documents?"
     ]
    },
    {
     "cell_type": "code",
     "collapsed": false,
     "input": [
      "# calculate the term frequency of all the unique tokens in all of the bags of words.\n",
      "\n",
      "for doc in word_bag_list[:100]:\n",
      "    tf = Counter()  # initialize this dict-like thing.\n",
      "    tfidf = Counter()\n",
      "    \n",
      "    # FILL IN CODE\n",
      "\n",
      "    # calculate term frequencies\n",
      "    for token in doc:\n",
      "        tf[token] += 1\n",
      "    total = float(sum(tf.values()))\n",
      "\n",
      "    # calculate tf-idf scores\n",
      "    for token in tf:\n",
      "        tfidf[token] = (tf[token] / total) * (-np.log(df[token]))\n",
      "\n",
      "    # this prints most significant words in the document\n",
      "    print tfidf.most_common(5)"
     ],
     "language": "python",
     "metadata": {},
     "outputs": [
      {
       "output_type": "stream",
       "stream": "stdout",
       "text": [
        "[('engulfed', 0.38207769145669573), ('postage', 0.35435180423429802), ('stamp', 0.32662591701190019), ('sized', 0.32662591701190019), ('ingenious', 0.26874915769444713)]\n",
        "[('inventive', 1.1776761280575496), ('years', 0.86416673391256149), ('comedy', 0.65581305597424544), ('most', 0.60218245744549825), ('The', 0.34366841255125813)]\n",
        "[('spectrum', 0.65025615367302192), ('winning', 0.47844136740324539), ('everyone', 0.44544170544029477), ('age', 0.40062591265874697), ('animated', 0.39485397527852278)]\n",
        "[('equal', 0.39521934955065752), ('sports', 0.37253332126759958), ('provocative', 0.349472021986657), ('technical', 0.34343354233606388), ('achievement', 0.34201603930200153)]\n",
        "[('catalog', 0.63679615242782617), ('hyperrealist', 0.63679615242782617), ('toy', 0.4981667163158372), ('1995', 0.49031451393874498), ('generated', 0.41464918508281268)]\n",
        "[('ushered', 0.23879855716043485), ('revived', 0.23879855716043485), ('Lion', 0.19856260934958236), ('repetition', 0.19400457042973349), ('landmark', 0.19015080343405202)]\n",
        "[('conceptual', 0.35377564023768121), ('wholl', 0.31308629621293643), ('verbal', 0.28741417841441996), ('defined', 0.27239695218819165), ('appreciated', 0.27239695218819165)]\n",
        "[('anthropomorphism', 0.36738239563143821), ('Adults', 0.30548093746089594), ('will', 0.28503873164305155), ('toys', 0.28287375804158366), ('marvel', 0.26588019064623597)]\n",
        "[('foray', 0.30812717052959332), ('invested', 0.26340799759024208), ('cleverness', 0.24104841112056638), ('imagery', 0.20698219582220143), ('generated', 0.20063670245942547)]\n",
        "[('toys', 0.3343053504127807), ('speak', 0.31422204349100619), ('Tim', 0.2957918113042714), ('Hanks', 0.2916567304767384), ('guys', 0.28436842820059388)]\n",
        "[('coaster', 0.63518117535962337), ('roller', 0.63518117535962337), ('visionary', 0.61630486947069207), ('ride', 0.52030008090257263), ('result', 0.47957056067284898)]\n",
        "[('wondrously', 0.38884037739511923), ('holiday', 0.31993947344577034), ('town', 0.29617798934486617), ('generated', 0.29617798934486617), ('imaginative', 0.29133119437772609)]\n",
        "[('popper', 0.79599519053478274), ('D', 0.53840831942158984), ('3', 0.50718386530147219), ('Disneys', 0.49508536448109741), ('eye', 0.46999327341577063)]\n",
        "[('Pete', 0.30812717052959332), ('Ranft', 0.30812717052959332), ('Docter', 0.30812717052959332), ('throats', 0.2857675840599177), ('Lasseter', 0.2857675840599177)]\n",
        "[('overcommercialization', 0.95519422864173942), ('negative', 0.84533299977492848), ('Toy', 0.7472500744737558), ('involves', 0.73547177090811755), ('Story', 0.618464645643092)]\n",
        "[('Technically', 1.4764658509762416), ('Toy', 1.245416790789593), ('flawless', 1.1923411689365038), ('Story', 1.0307744094051532), ('nearly', 0.8887390968735478)]\n",
        "[('playthings', 0.34114079594347829), ('eager', 0.27714938632819064), ('Andy', 0.26266848961004197), ('draw', 0.26266848961004197), ('20th', 0.25550167905782223)]\n",
        "[('miraculous', 0.24862735287497895), ('Toy', 0.21977943366875169), ('I', 0.20958710997220767), ('imagine', 0.18871906089671306), ('Story', 0.18190136636561527)]\n",
        "[('changer', 0.63679615242782617), ('puns', 0.56355533318328566), ('added', 0.45625947235434555), ('voice', 0.41464918508281268), ('game', 0.36964060674566152)]\n",
        "[('gloomy', 0.61096187492179188), ('generating', 0.57480774959519676), ('grotesque', 0.56574751608316731), ('extravaganza', 0.56574751608316731), ('despair', 0.53746099453506591)]\n",
        "[('extravaganza', 0.91933971363514688), ('calculated', 0.86411061960026692), ('special', 0.56766337404014233), ('effects', 0.53877440891971895), ('entertaining', 0.5192224481124551)]\n",
        "[('Matthau', 0.68144577737364997), ('Walter', 0.5850793951816986), ('Lemmon', 0.57480774959519676), ('awfully', 0.53176038129247194), ('Jack', 0.49357292849909573)]\n",
        "[('Mediocre', 4.2266649988746421), ('regrettably', 4.0828239626487521)]\n",
        "[('bickering', 0.46962944431940468), ('Neil', 0.43112126762162989), ('Simon', 0.40859542828228745), ('disappointed', 0.39261309092385521), ('Just', 0.33314412360710999)]\n",
        "[('1993', 0.26227697025386487), ('list', 0.21838160212238597), ('10', 0.20304760828578441), ('among', 0.1931275368219299), ('close', 0.18936204399555087)]\n",
        "[('Ariels', 0.31839807621391308), ('grumps', 0.31839807621391308), ('dictated', 0.29529317019524831), ('practiced', 0.29529317019524831), ('pat', 0.26475014579944312)]\n",
        "[('Grumpys', 0.73476479126287642), ('poke', 0.65025615367302192), ('somewhere', 0.50826948517315029), ('cheap', 0.48715895858070718), ('sentimentality', 0.46816972181674366)]\n",
        "[('Melrose', 0.56187895802455257), ('Place', 0.49725470574995789), ('escapes', 0.48033223089985316), ('aura', 0.43955886733750338), ('queasy', 0.43263045347536322)]\n",
        "[('rigorous', 0.34023533022072933), ('examination', 0.30644657121171559), ('undemanding', 0.30644657121171559), ('diverting', 0.27994703926504905), ('sit', 0.26557868566956033)]\n",
        "[('flaring', 0.39799759526739137), ('rejoice', 0.39799759526739137), ('lollygags', 0.39799759526739137), ('stomp', 0.39799759526739137), ('sputtering', 0.34023533022072933)]\n",
        "[('McMillans', 0.73476479126287642), ('celebratory', 0.73476479126287642), ('sister', 0.62812676348442342), ('Terry', 0.61096187492179188), ('selling', 0.51682530325855214)]\n",
        "[('crippling', 0.26844833654113487), ('bashing', 0.26844833654113487), ('Exhale', 0.25616151508331164), ('Waiting', 0.2474438765241668), ('starting', 0.2474438765241668)]\n",
        "[('mishandles', 0.73476479126287642), ('Whitaker', 0.65025615367302192), ('clumsily', 0.59693713978379537), ('tour', 0.52148873570597021), ('de', 0.50057075759184388)]\n",
        "[('grappling', 0.35377564023768121), ('Exhale', 0.31308629621293643), ('Waiting', 0.30243140464064827), ('issues', 0.22906097986781182), ('uneven', 0.21623593406344763)]\n",
        "[('populating', 0.39799759526739137), ('Bernadine', 0.39799759526739137), ('exception', 0.30205654972597284), ('capture', 0.29445981819289141), ('sympathy', 0.27756543868838457)]\n",
        "[('men', 0.39177526037996574), ('musing', 0.3293773202212894), ('wardrobe', 0.30547569330542929), ('her', 0.29098093056220864), ('I', 0.24572281858810555)]\n",
        "[('Fraker', 0.29849819645054354), ('equilibriums', 0.29849819645054354), ('rattled', 0.26416656242966513), ('retro', 0.23768850429256502), ('fluff', 0.23768850429256502)]\n",
        "[('crook', 0.23879855716043485), ('somebodys', 0.23879855716043485), ('jobs', 0.22146987764643625), ('bruised', 0.22146987764643625), ('stare', 0.20414119813243761)]\n",
        "[('warring', 0.28945279655810285), ('taciturn', 0.28945279655810285), ('braying', 0.28945279655810285), ('Ashley', 0.25616151508331164), ('Val', 0.2474438765241668)]\n",
        "[('robberies', 0.36738239563143821), ('tautly', 0.34072288868682499), ('elaborately', 0.2925396975908493), ('satisfaction', 0.28287375804158366), ('Heat', 0.27515565436996248)]\n",
        "[('reinvests', 0.27291263675478267), ('postmodernist', 0.24152371422140811), ('modernist', 0.24152371422140811), ('artifice', 0.23330422643707155), ('Fiction', 0.22171950906255253)]\n",
        "[('proportion', 0.25136690227414193), ('nowadays', 0.23312618699624865), ('lengthy', 0.21488547171835537), ('robbers', 0.20901327299956035), ('1995', 0.19354520287055724)]\n",
        "[('interpersonal', 0.34114079594347829), ('Asphalt', 0.34114079594347829), ('discussions', 0.31638553949490889), ('fitted', 0.31638553949490889), ('robbers', 0.28366087049940331)]\n",
        "[('fortunately', 0.3691164627440604), ('invited', 0.35222208323955351), ('Mann', 0.29445981819289141), ('party', 0.28803687320008897), ('exceptional', 0.28803687320008897)]\n",
        "[('forges', 0.63277107898981777), ('180', 0.58326056609267884), ('Heat', 0.51100335811564446), ('mark', 0.48884943466537023), ('consistently', 0.4417604611736371)]\n",
        "[('exalted', 0.76848454524993492), ('occupies', 0.76848454524993492), ('position', 0.72204585218029949), ('countless', 0.70547116519903086), ('Heat', 0.65036791032900221)]\n",
        "[('Niros', 0.59693713978379537), ('devoted', 0.56574751608316731), ('parody', 0.49357292849909573), ('Robert', 0.41981520955348417), ('De', 0.41606212000198939)]\n",
        "[('indeed', 0.32537099243469858), ('decade', 0.32082240352441227), ('finest', 0.29071363340670131), ('crime', 0.27814791199265598), ('period', 0.27372024212558371)]\n",
        "[('beside', 0.35502817066510889), ('expose', 0.33739925292127559), ('weaknesses', 0.33069704945052525), ('mouse', 0.32489133672771991), ('pale', 0.32489133672771991)]\n",
        "[('superlative', 0.25517649766554701), ('rife', 0.23768850429256502), ('meticulously', 0.23351564827304869), ('controlled', 0.22654241229447963), ('Mann', 0.22084486364466857)]\n",
        "[('squealing', 0.49215528365874717), ('tires', 0.49215528365874717), ('drowning', 0.45364710696097243), ('banalities', 0.45364710696097243), ('bodies', 0.41513893026319765)]\n",
        "[('Manns', 0.60380928555352031), ('elevate', 0.60380928555352031), ('writing', 0.41198233232136661), ('Michael', 0.39224994827649817), ('material', 0.334600559711558)]\n",
        "[('colossal', 2.8177766659164281), ('disappointment', 2.1536332776863594), ('a', 0.28292252579190502)]\n",
        "[('generates', 0.72493571934233492), ('Heat', 0.71540470136190237), ('lots', 0.63330664615491938), ('light', 0.51452230391531406), ('energy', 0.50860341677628107)]\n",
        "[('major', 0.62229984087066292), ('touts', 0.26533173017826089), ('Boosters', 0.26533173017826089), ('Doing', 0.26533173017826089), ('yawns', 0.24607764182937358)]\n",
        "[('watertight', 0.50273380454828387), ('Pacino', 0.35361731275585145), ('Niro', 0.35060897518532785), ('each', 0.28551620533538435), ('De', 0.28467408210662426)]\n",
        "[('bulk', 0.50273380454828387), ('well', 0.37664554468927713), ('cop', 0.3568080823251375), ('crime', 0.29278727578174313), ('thought', 0.27988609378000706)]\n",
        "[('glittering', 0.38884037739511923), ('measure', 0.3228263601989339), ('somehow', 0.28835403452147212), ('lead', 0.27574962717732526), ('formula', 0.27253813761563328)]\n",
        "[('dropped', 0.30812717052959332), ('glibly', 0.30812717052959332), ('quipping', 0.30812717052959332), ('Leavening', 0.30812717052959332), ('tugs', 0.30812717052959332)]\n",
        "[('tastelessness', 1.1073493882321812), ('Wilders', 0.89425587670237794), ('artistic', 0.78201317755163313), ('strength', 0.76884311309440478), ('major', 0.70008732097949589)]\n",
        "[('World', 0.39087085548689715), ('callousness', 0.31839807621391308), ('barriers', 0.28177766659164283), ('confrontation', 0.2490833581579186), ('Old', 0.2490833581579186)]\n",
        "[('Hampered', 0.50273380454828387), ('unimaginative', 0.38709040574111447), ('delightfully', 0.38154511544333408), ('Cinderella', 0.36773646994504511), ('variation', 0.36773646994504511)]\n",
        "[('as', 0.45604504670697193), ('column', 0.20323281460462539), ('Wilderhas', 0.20323281460462539), ('screed', 0.18848500225228615), ('yesterdays', 0.1798580850584954)]\n",
        "[('lump', 2.7218826417658346), ('joyless', 2.4515725696937247), ('A', 0.75184300588115793)]\n",
        "[('Reuniting', 0.41530183853988667), ('abilities', 0.36753608685866451), ('Timecop', 0.35502817066510889), ('biter', 0.34532627712970843), ('exploits', 0.33069704945052525)]\n",
        "[('hand', 0.72361704761826329), ('mounts', 0.52110559446220295), ('steadily', 0.49725470574995789), ('Offers', 0.42082629491876611), ('pyrotechnics', 0.41099958405622689)]\n",
        "[('Sudden', 0.3281035224391648), ('Claude', 0.29416682866604787), ('Death', 0.27675928684213175), ('building', 0.27675928684213175), ('1995', 0.27239695218819165)]\n",
        "[('go', 0.3730640392652973), ('puck', 0.26533173017826089), ('goalie', 0.26533173017826089), ('booby', 0.26533173017826089), ('jollies', 0.26533173017826089)]\n",
        "[('Claude', 0.31770017495933173), ('dropping', 0.31770017495933173), ('jaw', 0.31040731268757354), ('loaded', 0.26874915769444713), ('Damme', 0.26874915769444713)]\n",
        "[('Sudden', 0.3281035224391648), ('manipulation', 0.28170489397637333), ('Death', 0.27675928684213175), ('common', 0.23929258640959547), ('create', 0.22209608240473999)]\n",
        "[('patently', 0.34114079594347829), ('atop', 0.34114079594347829), ('roof', 0.31638553949490889), ('duel', 0.30190464277676016), ('overtime', 0.30190464277676016)]\n",
        "[('chores', 0.3293773202212894), ('Boothe', 0.3293773202212894), ('defuse', 0.3293773202212894), ('thwart', 0.3293773202212894), ('bombs', 0.3293773202212894)]\n",
        "[('connecting', 0.27268806444352528), ('worthless', 0.26340799759024208), ('choreographed', 0.24535587539877679), ('Hyams', 0.23077571011674269), ('flair', 0.21673319168907026)]\n",
        "[('Brosnan', 0.31839807621391308), ('Hell', 0.31839807621391308), ('handicap', 0.29529317019524831), ('recapture', 0.27218826417658348), ('humorless', 0.2490833581579186)]\n",
        "[('Onatopp', 0.3293773202212894), ('Xenia', 0.3293773202212894), ('domination', 0.30547569330542929), ('fighting', 0.2738794611718377), ('returns', 0.25767243947370888)]\n",
        "[('clinging', 0.31839807621391308), ('mite', 0.29529317019524831), ('entries', 0.27218826417658348), ('cycle', 0.26475014579944312), ('deny', 0.25867276057297794)]\n",
        "[('Kiel', 1.9103884572834788), ('missed', 1.332314105704246), ('Richard', 1.199318844985596), ('you', 0.58824924833992698), ('are', 0.53741890168930673)]\n",
        "[('33', 0.23297420210774131), ('breathes', 0.19916214451945133), ('Bonds', 0.1937196188776413), ('17', 0.18927275163876436), ('Among', 0.18551297896005076)]\n",
        "[('bowling', 0.4662523739924973), ('recapture', 0.42977094343671074), ('Campbell', 0.4180265459991207), ('matters', 0.38154511544333408), ('earlier', 0.31561022236463054)]\n",
        "[('blahs', 3.1839807621391309), ('Suffers', 2.9529317019524832), ('the', 0.20346560372483669)]\n",
        "[('Supercharged', 1.3645631837739132), ('thundering', 1.2655421579796355), ('numbing', 0.99814184699369379), ('brain', 0.90472378022131328), ('spectacular', 0.83405288853044079)]\n",
        "[('Souviens', 0.41530183853988667), ('Je', 0.41530183853988667), ('plate', 0.36753608685866451), ('Me', 0.33069704945052525), ('vanity', 0.31977033517744241)]\n",
        "[('facsimile', 0.43417919483715423), ('weariness', 0.40267250481170225), ('unfold', 0.33965912476079813), ('reasonable', 0.32951623606469765), ('certain', 0.24658217733510468)]\n",
        "[('Stunts', 0.95519422864173942), ('GoldenEye', 0.95519422864173942), ('Babes', 0.95519422864173942), ('BS', 0.88587951058574499), ('excels', 0.84533299977492848)]\n",
        "[('proficiency', 1.0613269207130436), ('dollar', 0.90729421392194487), ('Directed', 0.80548413260259422), ('top', 0.56901394306378672), ('wit', 0.56012030887783826)]\n",
        "[('Loved', 0.73476479126287642), ('Me', 0.5850793951816986), ('Spy', 0.55031130873992495), ('Perhaps', 0.50826948517315029), ('entry', 0.50057075759184388)]\n",
        "[('belated', 0.29529317019524831), ('Bonds', 0.26475014579944312), ('satisfaction', 0.24515725696937249), ('observed', 0.24515725696937249), ('neat', 0.23846823378730078)]\n",
        "[('sweats', 0.59699639290108708), ('exudes', 0.52833312485933026), ('corny', 0.43668705805974106), ('Capra', 0.43205530980013346), ('sympathy', 0.41634815803257685)]\n",
        "[('Sorkin', 0.25816060233560523), ('Presidency', 0.25816060233560523), ('Office', 0.25816060233560523), ('Oval', 0.25816060233560523), ('zinger', 0.23942689475290405)]\n",
        "[('Genial', 1.2655421579796355), ('notably', 1.0095765195184849), ('inspired', 0.84490801809871541), ('entertaining', 0.59339708355709153), ('if', 0.51672115582825795)]\n",
        "[('coasts', 0.63679615242782617), ('Genial', 0.59058634039049662), ('middlebrow', 0.52950029159888623), ('fare', 0.40786367212881652), ('stars', 0.34896361152540561)]\n",
        "[('bustling', 0.76848454524993492), ('impassioned', 0.70547116519903086), ('Sturges', 0.64245778514812679), ('Capra', 0.62844408698201237), ('As', 0.36713759456840106)]\n",
        "[('unwatchable', 0.49725470574995789), ('President', 0.45648134218760816), ('Reiner', 0.41099958405622689), ('Rob', 0.40258188737148137), ('nevertheless', 0.38565941252137664)]\n",
        "[('swept', 0.53375005319553981), ('dislike', 0.53375005319553981), ('wont', 0.39224994827649817), ('either', 0.38982840887109238), ('away', 0.36247181942422763)]\n",
        "[('make', 0.5437524390670474), ('you', 0.44118693625494526), ('President', 0.38800914085946697), ('vote', 0.38030160686810405), ('change', 0.31665332307745969)]\n",
        "[('bias', 0.40267250481170225), ('Apart', 0.37116581478625021), ('abundance', 0.35273558259951543), ('President', 0.35273558259951543), ('smarts', 0.34572873351645822)]\n",
        "[('Great', 3.5335178183146971), ('entertainment', 2.1822782402883196)]\n",
        "[('modulated', 2.0414119813243761), ('charmer', 2.0414119813243761), ('well', 0.89453316863703325), ('A', 0.56388225441086848)]\n",
        "[('simpering', 0.56187895802455257), ('President', 0.45648134218760816), ('darn', 0.44741365513894593), ('20', 0.37493461506290876), ('affecting', 0.36800620120076855)]\n",
        "[('Frothy', 9.5519422864173933)]\n"
       ]
      }
     ],
     "prompt_number": 7
    },
    {
     "cell_type": "markdown",
     "metadata": {},
     "source": [
      "# Sci-Kit Learn\n",
      "\n",
      "Scikit-Learn comes with utilities to do these calculations for us. How do their results compare?\n",
      "\n",
      "I confess, I ran out of time to do a proper comparison, but with enough work, we can figure out which features (i.e. words) have the highest scores. What's happening is each documents is converted into a normalized vector (length = 1) where most of the dimensions/features/words are 0, and the words that occur in the document get a score proportional to its tf-idf score."
     ]
    },
    {
     "cell_type": "code",
     "collapsed": false,
     "input": [
      "from sklearn.feature_extraction.text import TfidfVectorizer"
     ],
     "language": "python",
     "metadata": {},
     "outputs": [],
     "prompt_number": 8
    },
    {
     "cell_type": "code",
     "collapsed": false,
     "input": [
      "tfidf_vec = TfidfVectorizer()\n",
      "output = tfidf_vec.fit_transform(documents)\n",
      "print output.toarray()[20:30, :10]"
     ],
     "language": "python",
     "metadata": {},
     "outputs": [
      {
       "output_type": "stream",
       "stream": "stdout",
       "text": [
        "[[ 0.          0.          0.          0.          0.          0.          0.\n",
        "   0.          0.          0.        ]\n",
        " [ 0.          0.          0.          0.          0.          0.          0.\n",
        "   0.          0.          0.        ]\n",
        " [ 0.          0.          0.          0.          0.          0.          0.\n",
        "   0.          0.          0.        ]\n",
        " [ 0.          0.          0.          0.          0.          0.          0.\n",
        "   0.          0.          0.        ]\n",
        " [ 0.          0.          0.          0.          0.25400101  0.          0.\n",
        "   0.          0.          0.        ]\n",
        " [ 0.          0.          0.          0.          0.          0.          0.\n",
        "   0.          0.          0.        ]\n",
        " [ 0.          0.          0.          0.          0.          0.          0.\n",
        "   0.          0.          0.        ]\n",
        " [ 0.          0.          0.          0.          0.          0.          0.\n",
        "   0.          0.          0.        ]\n",
        " [ 0.          0.          0.          0.          0.          0.          0.\n",
        "   0.          0.          0.        ]\n",
        " [ 0.          0.          0.          0.          0.          0.          0.\n",
        "   0.          0.          0.        ]]\n"
       ]
      }
     ],
     "prompt_number": 9
    },
    {
     "cell_type": "code",
     "collapsed": false,
     "input": [
      "print tfidf_vec.get_stop_words()"
     ],
     "language": "python",
     "metadata": {},
     "outputs": [
      {
       "output_type": "stream",
       "stream": "stdout",
       "text": [
        "None\n"
       ]
      }
     ],
     "prompt_number": 10
    },
    {
     "cell_type": "code",
     "collapsed": false,
     "input": [
      "from IPython.display import HTML\n",
      "HTML('''\n",
      "<style>\n",
      ".text_cell_render {\n",
      "  background-color: cyan;\n",
      "}\n",
      "</style>\n",
      "''')"
     ],
     "language": "python",
     "metadata": {},
     "outputs": [
      {
       "html": [
        "\n",
        "<style>\n",
        ".text_cell_render {\n",
        "  background-color: cyan;\n",
        "}\n",
        "</style>\n"
       ],
       "metadata": {},
       "output_type": "pyout",
       "prompt_number": 11,
       "text": [
        "<IPython.core.display.HTML at 0x10ba2ea90>"
       ]
      }
     ],
     "prompt_number": 11
    }
   ],
   "metadata": {}
  }
 ]
}