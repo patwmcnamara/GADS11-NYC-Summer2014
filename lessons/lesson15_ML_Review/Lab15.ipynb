{
 "metadata": {
  "name": "",
  "signature": "sha256:c3aed052ac511ae1901f60ebe19b75459ea545431ebbf1fa8f7ab68051c65006"
 },
 "nbformat": 3,
 "nbformat_minor": 0,
 "worksheets": [
  {
   "cells": [
    {
     "cell_type": "markdown",
     "metadata": {},
     "source": [
      "# ML Review and Regularization"
     ]
    },
    {
     "cell_type": "markdown",
     "metadata": {},
     "source": [
      "## Part 0 (location, location, location):\n",
      "\n",
      "copy this and the other notebooks to lab_submissions/lab15/flastname/"
     ]
    },
    {
     "cell_type": "code",
     "collapsed": false,
     "input": [
      "# imports for the rest of the notebook.\n",
      "\n",
      "import matplotlib.pyplot as plt\n",
      "%matplotlib inline\n",
      "\n",
      "import numpy as np\n",
      "from sklearn.linear_model import LinearRegression, Ridge, Lasso\n",
      "from sklearn.preprocessing import PolynomialFeatures"
     ],
     "language": "python",
     "metadata": {},
     "outputs": []
    },
    {
     "cell_type": "markdown",
     "metadata": {},
     "source": [
      "## Part 1 (Linear Regression):\n",
      "\n",
      "Let's compare regularization strategies. Let's start by generating a small, fake data set. It will be a smattering of points from a 5th-order polynomial with noise added."
     ]
    },
    {
     "cell_type": "code",
     "collapsed": false,
     "input": [
      "# generating fake data. You can just run the cell.\n",
      "\n",
      "def poly_features(x, poly_order, ones=False):\n",
      "    '''\n",
      "    Take an input 1D array and construct a full feature set of polynomial terms.\n",
      "    e.g. if x = [1, 3, 4] and poly_order = 3, it returns:\n",
      "    [[1, 1, 1, 1],\n",
      "     [1, 3, 9, 27],\n",
      "     [1, 4, 16, 64]]\n",
      "    '''\n",
      "    poly_maker = PolynomialFeatures(poly_order, include_bias=ones)  # use the scikit-learn class\n",
      "    return poly_maker.fit_transform(x[np.newaxis].T)  # reshape the input array, and perform the transform\n",
      "\n",
      "# generate random coefficients between -5 and 5.\n",
      "beta_true = (np.random.rand(6) - 0.5) * 10\n",
      "\n",
      "# generate random x values between -1 and 1.\n",
      "x_train = (np.random.rand(20) - 0.5) * 2\n",
      "\n",
      "# apply the polynomial function to the values in x, and add normally distributed noise.\n",
      "X_train = poly_features(x_train, 5, ones=True)  # construct the polynomial features\n",
      "noise = np.random.randn(20)                     # generate 20 random numbers normally distributed around 0\n",
      "y_train = X_train.dot(beta_true) + noise        # apply the coefficients to the features in X_train and add noise"
     ],
     "language": "python",
     "metadata": {},
     "outputs": []
    },
    {
     "cell_type": "code",
     "collapsed": false,
     "input": [
      "# visualize what we've got so far. You can just run this cell\n",
      "# you can regenerate new random data if the line you ended up getting is too boring.\n",
      "\n",
      "# Use this array of x values to span the width of the plot\n",
      "x_fig = np.linspace(-1, 1, 500)\n",
      "\n",
      "# True y-values from the original polynomial\n",
      "y_true = poly_features(x_fig, 5, ones=True).dot(beta_true)\n",
      "\n",
      "# create plot\n",
      "plt.figure(figsize=(12,8))\n",
      "plt.scatter(x_train, y_train, label='noisy data', marker='o', s=100)  # plot the data\n",
      "plt.plot(x_fig, y_true, color='k', label='true 5d function')  # plot the true curve\n",
      "\n",
      "# style\n",
      "plt.ylim(y_train.min() - 1, y_train.max() + 1)\n",
      "plt.xlim(-1, 1)\n",
      "plt.tick_params(labelsize=14)\n",
      "plt.legend(fontsize=20)"
     ],
     "language": "python",
     "metadata": {},
     "outputs": []
    },
    {
     "cell_type": "markdown",
     "metadata": {},
     "source": [
      "### Ordinary least squares fit\n",
      "\n",
      "Remember how to do least squares?\n",
      "\n",
      "Do least squares fit, adjust degree of polynomial, plot\n",
      "\n",
      "Do ridge regression with 20th degree polynomial, adjust lambda, plot\n",
      "\n",
      "Do lasso regression with 20th degree polynomial, adjust lambda, plot\n",
      "\n",
      "pick best fit in each category, print coefs"
     ]
    },
    {
     "cell_type": "code",
     "collapsed": false,
     "input": [
      "# utility function. you can just run this cell\n",
      "\n",
      "def fit_line(x, poly_order):\n",
      "    '''\n",
      "    This function first fits a `poly_order`-polynomial to the training data generated at the beginning.\n",
      "    It then predicts and returns the y values for each x value in the input argument.\n",
      "    Use this function to plot best fit lines for polynomial fits of different orders.\n",
      "    '''\n",
      "    # construct the polynomial features\n",
      "    X_train = poly_features(x_train, poly_order)\n",
      "    \n",
      "    # train the model\n",
      "    clf = LinearRegression()\n",
      "    clf.fit(X_train, y_train)\n",
      "    \n",
      "    # generate predicted output\n",
      "    return clf.predict(poly_features(x, poly_order))"
     ],
     "language": "python",
     "metadata": {},
     "outputs": []
    },
    {
     "cell_type": "code",
     "collapsed": false,
     "input": [
      "# visualize fit lines for different complexities. Run, then make edits and run again.\n",
      "\n",
      "# Use this array of x values to span the width of the plot\n",
      "x_fig = np.linspace(-1, 1, 500)\n",
      "\n",
      "# True y-values from the original polynomial\n",
      "y_true = poly_features(x_fig, 5, ones=True).dot(beta_true)\n",
      "\n",
      "# create plot\n",
      "plt.figure(figsize=(12,8))\n",
      "plt.scatter(x_train, y_train, label='noisy data', marker='o', s=100)  # plot the data\n",
      "plt.plot(x_fig, y_true, color='k', label='true 5d function')  # plot the true curve\n",
      "\n",
      "# plot fits\n",
      "plt.plot(x_fig, fit_line(x_fig, 20),             # <-- the 20 is the fit parameter\n",
      "         color='r', label='20d fit', alpha=0.3)  # really bad overfitting\n",
      "plt.plot(x_fig, fit_line(x_fig, 5),\n",
      "         color='#5555FF', label='5d fit')        # same d as original\n",
      "# ** try other fit dimensions **\n",
      "\n",
      "# style\n",
      "plt.ylim(y_train.min() - 1, y_train.max() + 1)\n",
      "plt.xlim(-1, 1)\n",
      "plt.tick_params(labelsize=14)\n",
      "plt.legend(fontsize=14)"
     ],
     "language": "python",
     "metadata": {},
     "outputs": []
    },
    {
     "cell_type": "markdown",
     "metadata": {},
     "source": [
      "### Ridge Regression fit\n",
      "\n",
      "How do the fits compare to using a regularized linear regression?\n",
      "\n",
      "Please fill in the new fitting function using [Ridge Regression](http://scikit-learn.org/stable/modules/generated/sklearn.linear_model.Ridge.html#sklearn.linear_model.Ridge). Recall that ridge regression is just linear regression with a regularization penalty that scales with the L2 or Euclidean norm of the coefficients."
     ]
    },
    {
     "cell_type": "code",
     "collapsed": false,
     "input": [
      "# utility function. Please fill in the code\n",
      "\n",
      "def fit_line_ridge(x, poly_order, alpha=1.0):\n",
      "    '''\n",
      "    This function first fits a `poly_order`-polynomial **using Ridge Regression** to the training data generated at the beginning.\n",
      "    It then predicts and returns the y values for each x value in the input argument.\n",
      "    Use this function to plot best fit lines for polynomial fits of different orders.\n",
      "    `alpha` is the regularization hyperparameter that's often denoted `lambda` in other literature.\n",
      "    '''\n",
      "    # FILL IN CODE #\n",
      "    return None"
     ],
     "language": "python",
     "metadata": {},
     "outputs": []
    },
    {
     "cell_type": "code",
     "collapsed": false,
     "input": [
      "# visualize fit lines for different complexities. Run after completing the prior cell, then make edits and run again.\n",
      "\n",
      "# Use this array of x values to span the width of the plot\n",
      "x_fig = np.linspace(-1, 1, 500)\n",
      "assert fit_line_ridge(x_fig, 20, alpha=1.0) is not None, 'Did you complete the `fit_line_ridge` function definition?'\n",
      "\n",
      "# True y-values from the original polynomial\n",
      "y_true = poly_features(x_fig, 5, ones=True).dot(beta_true)\n",
      "\n",
      "# create plot\n",
      "plt.figure(figsize=(12,8))\n",
      "plt.scatter(x_train, y_train, label='noisy data', marker='o', s=100)  # plot the data\n",
      "plt.plot(x_fig, y_true, color='k', label='true 5d function')  # plot the true curve\n",
      "\n",
      "# plot fits\n",
      "plt.plot(x_fig, fit_line_ridge(x_fig, 20, alpha=1.0),\n",
      "         color='r', label='regularized 20d fit, alpha=1.0')  # too many dimensions, but regularized\n",
      "# ** try other values of alpha. Make sure to try huge and tiny values to see what happens **\n",
      "\n",
      "# style\n",
      "plt.ylim(y_train.min() - 1, y_train.max() + 1)\n",
      "plt.xlim(-1, 1)\n",
      "plt.tick_params(labelsize=14)\n",
      "plt.legend(fontsize=14)"
     ],
     "language": "python",
     "metadata": {},
     "outputs": []
    },
    {
     "cell_type": "markdown",
     "metadata": {},
     "source": [
      "### Lasso Regression fit\n",
      "\n",
      "How do the fits compare to using a differently regularized linear regression?\n",
      "\n",
      "Please fill in the new fitting function using [Lasso Regression](http://scikit-learn.org/stable/modules/generated/sklearn.linear_model.Lasso.html#sklearn.linear_model.Lasso). Lasso regression is linear regression with a regularization penalty that scales with the L1 norm or '[Manhattan Distance](http://en.wikipedia.org/wiki/Taxicab_geometry)' of the coefficients."
     ]
    },
    {
     "cell_type": "code",
     "collapsed": false,
     "input": [
      "# utility function. Please fill in the code\n",
      "\n",
      "def fit_line_lasso(x, poly_order, alpha=0.1):\n",
      "    '''\n",
      "    This function first fits a `poly_order`-polynomial **using Lasso Regression** to the training data generated at the beginning.\n",
      "    It then predicts and returns the y values for each x value in the input argument.\n",
      "    Use this function to plot best fit lines for polynomial fits of different orders.\n",
      "    `alpha` is the regularization hyperparameter that's often denoted `lambda` in other literature.\n",
      "    '''\n",
      "    # FILL IN CODE #\n",
      "    return None"
     ],
     "language": "python",
     "metadata": {},
     "outputs": []
    },
    {
     "cell_type": "code",
     "collapsed": false,
     "input": [
      "# visualize fit lines for different complexities. Run after completing the prior cell, then make edits and run again.\n",
      "\n",
      "# Use this array of x values to span the width of the plot\n",
      "x_fig = np.linspace(-1, 1, 500)\n",
      "assert fit_line_lasso(x_fig, 20, alpha=1.0) is not None, 'Did you complete the `fit_line_lasso` function definition?'\n",
      "\n",
      "# True y-values from the original polynomial\n",
      "y_true = poly_features(x_fig, 5, ones=True).dot(beta_true)\n",
      "\n",
      "# create plot\n",
      "plt.figure(figsize=(12,8))\n",
      "plt.scatter(x_train, y_train, label='noisy data', marker='o', s=100)  # plot the data\n",
      "plt.plot(x_fig, y_true, color='k', label='true 5d function')  # plot the true curve\n",
      "\n",
      "# plot fits\n",
      "plt.plot(x_fig, fit_line_lasso(x_fig, 20, alpha=0.1),\n",
      "         color='r', label='regularized 20d fit, alpha=0.1')  # too many dimensions, but regularized\n",
      "# ** try other values of alpha. Make sure to try huge and tiny values to see what happens **\n",
      "\n",
      "# style\n",
      "plt.ylim(y_train.min() - 1, y_train.max() + 1)\n",
      "plt.xlim(-1, 1)\n",
      "plt.tick_params(labelsize=14)\n",
      "plt.legend(fontsize=14)"
     ],
     "language": "python",
     "metadata": {},
     "outputs": []
    },
    {
     "cell_type": "markdown",
     "metadata": {},
     "source": [
      "### Comparison\n",
      "\n",
      "How do the three tactics that we've tried compare? (i.e. choosing the polynomial order vs. ridge regression vs. lasso regression) Let's evaluate them and examine the resulting coefficients.\n",
      "\n",
      "We'll generate a pure, noiseless sample from our original distribution to quickly test the performance of the different fits. Note that this is **absolutely** artificial. In practice, your test data will be as noisy as your training data. This is **purely** for instructional purposes."
     ]
    },
    {
     "cell_type": "code",
     "collapsed": false,
     "input": [
      "# Generate test data. Just run this cell.\n",
      "\n",
      "# generate evenly spaced x values between -1 and 1.\n",
      "x_test = np.linspace(-1, 1, 20)\n",
      "\n",
      "# apply the polynomial function to the values in x with the same beta coefficients as for the training set.\n",
      "X_test = poly_features(x_test, 5, ones=True)  # construct the polynomial features\n",
      "y_test = X_test.dot(beta_true)                # apply the coefficients to the features in X_train"
     ],
     "language": "python",
     "metadata": {},
     "outputs": []
    },
    {
     "cell_type": "code",
     "collapsed": false,
     "input": [
      "# Write tester functions that return the score and the coeficients for the different models.\n",
      "\n",
      "def test_fit(poly_order):\n",
      "    '''\n",
      "    This function first fits a `poly_order`-polynomial to the training data generated at the beginning.\n",
      "    It then returns the score and the coefficients (w/intercept) based on the test data.\n",
      "    '''\n",
      "    # construct the polynomial features\n",
      "    X_train = poly_features(x_train, poly_order)\n",
      "    \n",
      "    # train the model\n",
      "    clf = LinearRegression()\n",
      "    clf.fit(X_train, y_train)\n",
      "    \n",
      "    # generate score and coefficients\n",
      "    return clf.score(poly_features(x_test, poly_order), y_test), np.insert(clf.coef_, 0, clf.intercept_)\n",
      "\n",
      "def test_fit_ridge(alpha):\n",
      "    '''\n",
      "    This function first fits a 20th-order-polynomial **using Ridge Regression** to the training data generated at the beginning.\n",
      "    It then returns the score and the coefficients (w/intercept) based on the test data.\n",
      "    '''\n",
      "    # FILL IN CODE\n",
      "    \n",
      "    # generate score and coefficients\n",
      "    return clf.score(poly_features(x_test, poly_order), y_test), np.insert(clf.coef_, 0, clf.intercept_)\n",
      "\n",
      "def test_fit_lasso(alpha):\n",
      "    '''\n",
      "    This function first fits a 20th-order-polynomial **using Lasso Regression** to the training data generated at the beginning.\n",
      "    It then returns the score and the coefficients (w/intercept) based on the test data.\n",
      "    '''\n",
      "    # FILL IN CODE\n",
      "    \n",
      "    # generate score and coefficients\n",
      "    return clf.score(poly_features(x_test, poly_order), y_test), np.insert(clf.coef_, 0, clf.intercept_)"
     ],
     "language": "python",
     "metadata": {},
     "outputs": []
    },
    {
     "cell_type": "code",
     "collapsed": false,
     "input": [
      "# Use your preferred method to find the best parameters for each of the three regression tactics.\n",
      "\n",
      "test_fit(1)"
     ],
     "language": "python",
     "metadata": {},
     "outputs": []
    },
    {
     "cell_type": "code",
     "collapsed": false,
     "input": [
      "# Once you've found the best parameters, put them in the function calls below to compare them.\n",
      "print test_fit(best_n)\n",
      "print test_fit_ridge(best_alpha)\n",
      "print test_fit_lasso(best_alpha)\n",
      "print beta_true"
     ],
     "language": "python",
     "metadata": {},
     "outputs": []
    },
    {
     "cell_type": "markdown",
     "metadata": {},
     "source": [
      "### Roundup\n",
      "\n",
      "Which regularization strategy seemed to perform the best?\n",
      "How do the predicted coefficients compare between them?\n",
      "When might you use one over others?\n",
      "How do you think this generalizes to multiple features?\n",
      "\n",
      "Try generating a new random function and see whether your answers change. "
     ]
    },
    {
     "cell_type": "markdown",
     "metadata": {},
     "source": [
      "## Part 2 (Classification):\n",
      "\n",
      "We're probably out of time by this point. But I want to give you a chance to explore overfitting in other models.\n",
      "\n",
      "Below, I've generated a toy dataset. There are two overlapping blobs in two dimensions. I give a very short example of exploring the performance of k-NN on this data. Feel free to further explore using the other scikit-learn implementations of the classifiers we've discussed in class.\n",
      "\n",
      "Recall their strategies for avoiding overfitting:\n",
      "\n",
      "[k-NN](http://scikit-learn.org/stable/modules/generated/sklearn.neighbors.KNeighborsClassifier.html#sklearn.neighbors.KNeighborsClassifier) - choose k\n",
      "\n",
      "Naive Bayes ([multinomial](http://scikit-learn.org/stable/modules/generated/sklearn.naive_bayes.MultinomialNB.html#sklearn.naive_bayes.MultinomialNB)) ([Bernoulli](http://scikit-learn.org/stable/modules/generated/sklearn.naive_bayes.BernoulliNB.html#sklearn.naive_bayes.BernoulliNB)) - Laplace smoothing. The parameter is set to 1.0 by default (add-one smoothing). This particular classifier doesn't map well to this data since the formulations we've covered use categorical features. If you want to play with this one, try [discretizing](http://stackoverflow.com/a/6163403) the continuous features into membership in bins. The more bins you create, the more effect smoothing will have.\n",
      "\n",
      "[Decision trees](http://scikit-learn.org/stable/modules/generated/sklearn.tree.DecisionTreeClassifier.html#sklearn.tree.DecisionTreeClassifier) - There are various pruning, or termination parameters. You can also try [random forests](http://scikit-learn.org/stable/modules/generated/sklearn.ensemble.RandomForestClassifier.html#sklearn.ensemble.RandomForestClassifier).\n",
      "\n",
      "[Logistic regression](http://scikit-learn.org/stable/modules/generated/sklearn.linear_model.LogisticRegression.html) - Uses regularization similarly to linear regression. By default, it uses an L2 norm with a regularization parameter of 1. (Note that it's the inverse of the parameter used for linear regression. Whereas a smaller $\\lambda$ for linear regression means weaker regularization, for logistic regression, a smaller $C$ means stronger regularization.)"
     ]
    },
    {
     "cell_type": "code",
     "collapsed": false,
     "input": [
      "# generate toy data for playing with classifiers\n",
      "from sklearn.datasets.samples_generator import make_blobs, make_moons\n",
      "from sklearn.cross_validation import train_test_split\n",
      "\n",
      "centres = [[-0.5, 0], [1, -1]]\n",
      "X, labels_true = make_blobs(n_samples=1000, centers=centres, cluster_std=[[0.5, 0.5]])\n",
      "X_train, X_test, Y_train, Y_test = train_test_split(X, labels_true, test_size=0.25)\n",
      "\n",
      "plt.figure(figsize=(5, 5))\n",
      "plt.scatter(X_train[Y_train == 0, 0], X_train[Y_train == 0, 1], c='r', marker='o',s=20) \n",
      "plt.scatter(X_train[Y_train == 1, 0], X_train[Y_train == 1, 1], c='b', marker='o',s=20) \n",
      "plt.show()"
     ],
     "language": "python",
     "metadata": {},
     "outputs": [
      {
       "metadata": {},
       "output_type": "display_data",
       "png": "[encoded data removed]",
       "text": [
        "<matplotlib.figure.Figure at 0x1128c45d0>"
       ]
      }
     ],
     "prompt_number": 153
    },
    {
     "cell_type": "code",
     "collapsed": false,
     "input": [
      "# basic testing of a classifier on this data. Feel free to get as involved as you like with this and the others.\n",
      "from sklearn.neighbors import KNeighborsClassifier\n",
      "neigh = KNeighborsClassifier(n_neighbors=1)\n",
      "neigh.fit(X_train, Y_train)\n",
      "print 'k = 1: ', neigh.score(X_test, Y_test)\n",
      "neigh = KNeighborsClassifier(n_neighbors=5)\n",
      "neigh.fit(X_train, Y_train)\n",
      "print 'k = 5: ', neigh.score(X_test, Y_test)"
     ],
     "language": "python",
     "metadata": {},
     "outputs": [
      {
       "metadata": {},
       "output_type": "pyout",
       "prompt_number": 154,
       "text": [
        "0.94799999999999995"
       ]
      }
     ],
     "prompt_number": 154
    },
    {
     "cell_type": "markdown",
     "metadata": {},
     "source": [
      "## Part 3 (More):\n",
      "\n",
      "Extra material on machine learning:\n",
      "\n",
      "Some [quick advice](http://blog.echen.me/2011/04/27/choosing-a-machine-learning-classifier/) on choosing a classifier.\n",
      "\n",
      "Andrew Ng's [Coursera course](https://www.coursera.org/course/ml) from Stanford on machine learning has proven a very popular introduction, but he uses Octave, a Matlab variant.\n",
      "\n",
      "Yaser Abu-Mostafa's [online course](https://work.caltech.edu/telecourse.html) from Caltech on machines learning is much more deeply theoretical, but is of high quality.\n",
      "\n",
      "For those who know or would like to learn R, [this book](http://www.r-bloggers.com/machine-learning-for-hackers/) is a popular and practical one."
     ]
    },
    {
     "cell_type": "markdown",
     "metadata": {},
     "source": [
      "## Final note\n",
      "\n",
      "And it's about final projects. If you haven't decided on a topic, please figure one out soon. This link takes you to the lab submissions of a previous iteration of the course. You can find the final project submissions of former students there.\n",
      "https://github.com/datadave/GADS9-NYC-Spring2014-Students/tree/master/lab_submissions"
     ]
    }
   ],
   "metadata": {}
  }
 ]
}