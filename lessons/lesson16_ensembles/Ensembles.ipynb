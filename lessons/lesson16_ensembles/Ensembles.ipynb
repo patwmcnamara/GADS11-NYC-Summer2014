{
 "metadata": {
  "name": ""
 },
 "nbformat": 3,
 "nbformat_minor": 0,
 "worksheets": [
  {
   "cells": [
    {
     "cell_type": "markdown",
     "metadata": {},
     "source": [
      "###Ploting decision surfaces of ensembles of trees on the iris dataset\n",
      "\n",
      "Plot the decision surfaces of forests of randomized trees trained on pairs of features of the iris dataset.\n",
      "\n",
      "This plot compares the decision surfaces learned by a decision tree classifier (first column), by a random forest classifier (second column), by an extra-trees classifier (third column) and by an AdaBoost classifier (fourth column).\n",
      "\n",
      "In the first row, the classifiers are built using the sepal width and the sepal length features only, on the second row using the petal length and sepal length only, and on the third row using the petal width and the petal length only."
     ]
    },
    {
     "cell_type": "code",
     "collapsed": false,
     "input": [
      "import numpy as np\n",
      "import pylab as pl\n",
      "\n",
      "from sklearn import clone\n",
      "from sklearn.datasets import load_iris\n",
      "from sklearn.ensemble.weight_boosting import AdaBoostClassifier\n",
      "from sklearn.ensemble.forest import RandomForestClassifier, ExtraTreesClassifier\n",
      "\n",
      "from sklearn.externals.six.moves import xrange\n",
      "from sklearn.tree import DecisionTreeClassifier\n",
      "\n",
      "# Parameters\n",
      "n_classes = 3\n",
      "n_estimators = 30\n",
      "plot_colors = \"bry\"\n",
      "plot_step = 0.02\n",
      "\n",
      "# Load data\n",
      "iris = load_iris()\n",
      "\n",
      "plot_idx = 1\n",
      "\n",
      "for pair in ([0, 1], [0, 2], [2, 3]):\n",
      "    for model in (DecisionTreeClassifier(),\n",
      "                  RandomForestClassifier(n_estimators=n_estimators),\n",
      "                  ExtraTreesClassifier(n_estimators=n_estimators),\n",
      "                  AdaBoostClassifier(DecisionTreeClassifier(),\n",
      "                                     n_estimators=n_estimators)):\n",
      "        # We only take the two corresponding features\n",
      "        X = iris.data[:, pair]\n",
      "        y = iris.target\n",
      "\n",
      "        # Shuffle\n",
      "        idx = np.arange(X.shape[0])\n",
      "        np.random.seed(13)\n",
      "        np.random.shuffle(idx)\n",
      "        X = X[idx]\n",
      "        y = y[idx]\n",
      "\n",
      "        # Standardize\n",
      "        mean = X.mean(axis=0)\n",
      "        std = X.std(axis=0)\n",
      "        X = (X - mean) / std\n",
      "\n",
      "        # Train\n",
      "        clf = model.fit(X, y)\n",
      "\n",
      "        # Get accuracy scores\n",
      "        scores = clf.score(X, y)\n",
      "        # Create a title for each column and the console by using str() and slicing away useless parts of the string\n",
      "        model_title = str(type(model)).split(\".\")[-1][:-2][:-len(\"Classifier\")]\n",
      "        model_details = model_title\n",
      "        if hasattr(model, \"estimators_\"):\n",
      "            model_details += \" with {} estimators\".format(len(model.estimators_))\n",
      "        print model_details + \" with features\", pair, \"has a score of\", scores\n",
      "\n",
      "        # Plot the decision boundary\n",
      "        pl.subplot(3, 4, plot_idx)\n",
      "\n",
      "        x_min, x_max = X[:, 0].min() - 1, X[:, 0].max() + 1\n",
      "        y_min, y_max = X[:, 1].min() - 1, X[:, 1].max() + 1\n",
      "        xx, yy = np.meshgrid(np.arange(x_min, x_max, plot_step),\n",
      "                             np.arange(y_min, y_max, plot_step))\n",
      "\n",
      "        if isinstance(model, DecisionTreeClassifier):\n",
      "            Z = model.predict(np.c_[xx.ravel(), yy.ravel()])\n",
      "            Z = Z.reshape(xx.shape)\n",
      "            cs = pl.contourf(xx, yy, Z, cmap=pl.cm.Paired)\n",
      "        else:\n",
      "            for tree in model.estimators_:\n",
      "                Z = tree.predict(np.c_[xx.ravel(), yy.ravel()])\n",
      "                Z = Z.reshape(xx.shape)\n",
      "                cs = pl.contourf(xx, yy, Z, alpha=0.1, cmap=pl.cm.Paired)\n",
      "\n",
      "        pl.axis(\"tight\")\n",
      "\n",
      "        # Plot the training points\n",
      "        for i, c in zip(xrange(n_classes), plot_colors):\n",
      "            idx = np.where(y == i)\n",
      "            pl.scatter(X[idx, 0], X[idx, 1], c=c, label=iris.target_names[i],\n",
      "                       cmap=pl.cm.Paired)\n",
      "\n",
      "        pl.axis(\"tight\")\n",
      "\n",
      "        plot_idx += 1\n",
      "\n",
      "pl.suptitle(\"Decision surfaces of DecisionTreeClassifier, \"\n",
      "            \"RandomForestClassifier,\\nExtraTreesClassifier\"\n",
      "            \" and AdaBoostClassifier\")\n",
      "pl.show()"
     ],
     "language": "python",
     "metadata": {},
     "outputs": [
      {
       "output_type": "stream",
       "stream": "stdout",
       "text": [
        "DecisionTree with features [0, 1] has a score of 0.926666666667\n",
        "RandomForest with 30 estimators with features"
       ]
      },
      {
       "output_type": "stream",
       "stream": "stdout",
       "text": [
        " [0, 1] has a score of 0.926666666667\n",
        "ExtraTrees with 30 estimators with features"
       ]
      },
      {
       "output_type": "stream",
       "stream": "stdout",
       "text": [
        " [0, 1] has a score of 0.926666666667\n",
        "AdaBoost with 30 estimators with features"
       ]
      },
      {
       "output_type": "stream",
       "stream": "stdout",
       "text": [
        " [0, 1] has a score of 0.926666666667\n",
        "DecisionTree with features"
       ]
      },
      {
       "output_type": "stream",
       "stream": "stdout",
       "text": [
        " [0, 2] has a score of 0.993333333333\n",
        "RandomForest with 30 estimators with features"
       ]
      },
      {
       "output_type": "stream",
       "stream": "stdout",
       "text": [
        " [0, 2] has a score of 0.993333333333\n",
        "ExtraTrees with 30 estimators with features"
       ]
      },
      {
       "output_type": "stream",
       "stream": "stdout",
       "text": [
        " [0, 2] has a score of 0.993333333333\n",
        "AdaBoost with 30 estimators with features"
       ]
      },
      {
       "output_type": "stream",
       "stream": "stdout",
       "text": [
        " [0, 2] has a score of 0.993333333333\n",
        "DecisionTree with features"
       ]
      },
      {
       "output_type": "stream",
       "stream": "stdout",
       "text": [
        " [2, 3] has a score of 0.993333333333\n",
        "RandomForest with 30 estimators with features"
       ]
      },
      {
       "output_type": "stream",
       "stream": "stdout",
       "text": [
        " [2, 3] has a score of 0.993333333333\n",
        "ExtraTrees with 30 estimators with features"
       ]
      },
      {
       "output_type": "stream",
       "stream": "stdout",
       "text": [
        " [2, 3] has a score of 0.993333333333\n",
        "AdaBoost with 30 estimators with features"
       ]
      },
      {
       "output_type": "stream",
       "stream": "stdout",
       "text": [
        " [2, 3] has a score of 0.993333333333\n"
       ]
      }
     ],
     "prompt_number": 10
    },
    {
     "cell_type": "markdown",
     "metadata": {},
     "source": [
      "##Application to other data sets\n",
      "\n",
      "Here we have a dataset of chapters from books and plays by specific authors, and their usages of stop words. Let's see how accurately a random forest can predict the author based on stop word usage."
     ]
    },
    {
     "cell_type": "code",
     "collapsed": false,
     "input": [
      "# Importing libraries\n",
      "import random\n",
      "from pandas import read_csv\n",
      "from sklearn.cross_validation import train_test_split, Bootstrap\n",
      "from sklearn.ensemble.forest import ExtraTreesClassifier\n",
      "from sklearn.naive_bayes import MultinomialNB\n",
      "from sklearn import metrics\n",
      "from sklearn import preprocessing\n",
      "\n",
      "# Read in the authorship csv file.\n",
      "authorship = read_csv('http://people.stern.nyu.edu/jsimonof/AnalCatData/Data/Comma_separated/authorship.csv')\n",
      "\n",
      "# Setting a list to represent all the authors in the file, and then using LabelEncoder to set them to ints.\n",
      "authors = list(set(authorship.Author.values))\n",
      "le = preprocessing.LabelEncoder()\n",
      "le.fit(authors)\n",
      "authorship['Author_num'] = le.transform(authorship['Author']) # Actually sets the author's \"number\" or id.\n",
      "\n",
      "#What are some of the stop words we're looking at?\n",
      "features = list(authorship.columns)\n",
      "features\n",
      "features.remove('Author')\n",
      "features.remove('Author_num')\n",
      "\n",
      "# Create a random variable (random forests work best with a random variable)\n",
      "# and create a test and training set\n",
      "#authorship['random'] = [random.random() for i in range(841)]\n",
      "x_train, x_test, y_train, y_test = train_test_split(authorship[features],\n",
      "                                                    authorship.Author_num.values,\n",
      "                                                    test_size=0.4,\n",
      "                                                    random_state=123)\n",
      "\n",
      "## Compare the results here of random forests, adaboost, and a non-ensembled naive bayes classifier.\n",
      "clfA = ExtraTreesClassifier(n_estimators=1, random_state=10).fit(x_train, y_train)\n",
      "print ExtraTreesClassifier.__name__, 'results'\n",
      "print metrics.confusion_matrix(clfA.predict(x_test), y_test)\n",
      "\n",
      "clfB = AdaBoostClassifier(n_estimators=1, random_state=10).fit(x_train, y_train)\n",
      "print AdaBoostClassifier.__name__, 'results'\n",
      "print metrics.confusion_matrix(clfB.predict(x_test), y_test)\n",
      "\n",
      "clfC = MultinomialNB().fit(x_train, y_train)\n",
      "print MultinomialNB.__name__, 'results'\n",
      "print metrics.confusion_matrix(clfC.predict(x_test), y_test)\n",
      "## Sometimes a simpler answer is a better approach!"
     ],
     "language": "python",
     "metadata": {},
     "outputs": [
      {
       "output_type": "stream",
       "stream": "stdout",
       "text": [
        "ExtraTreesClassifier results\n",
        "[[104  15   1   6]\n",
        " [ 19  84   5   4]\n",
        " [  0   0  11   7]\n",
        " [ 13   0   3  65]]\n",
        "AdaBoostClassifier results\n",
        "[[131  14   4  62]\n",
        " [  5  85  16  20]\n",
        " [  0   0   0   0]\n",
        " [  0   0   0   0]]\n",
        "MultinomialNB results\n",
        "[[136   2   0   0]\n",
        " [  0  93   0   0]\n",
        " [  0   0  20   0]\n",
        " [  0   4   0  82]]\n"
       ]
      }
     ],
     "prompt_number": 18
    },
    {
     "cell_type": "code",
     "collapsed": false,
     "input": [],
     "language": "python",
     "metadata": {},
     "outputs": [
      {
       "metadata": {},
       "output_type": "pyout",
       "prompt_number": 17,
       "text": [
        "0     0.973442\n",
        "1     0.853568\n",
        "2     0.197876\n",
        "3     0.659676\n",
        "4     0.225693\n",
        "5     0.658215\n",
        "6     0.480220\n",
        "7     0.278514\n",
        "8     0.141666\n",
        "9     0.331650\n",
        "10    0.289462\n",
        "11    0.052274\n",
        "12    0.009472\n",
        "13    0.396834\n",
        "14    0.073329\n",
        "...\n",
        "826    0.075390\n",
        "827    0.397733\n",
        "828    0.060402\n",
        "829    0.900176\n",
        "830    0.891356\n",
        "831    0.146027\n",
        "832    0.409257\n",
        "833    0.126500\n",
        "834    0.064626\n",
        "835    0.152652\n",
        "836    0.332810\n",
        "837    0.091640\n",
        "838    0.197256\n",
        "839    0.980727\n",
        "840    0.154181\n",
        "Name: random, Length: 841, dtype: float64"
       ]
      }
     ],
     "prompt_number": 17
    },
    {
     "cell_type": "code",
     "collapsed": false,
     "input": [
      "## Let's get our feature importances ##\n",
      "print zip(clfA.feature_importances_, features)"
     ],
     "language": "python",
     "metadata": {},
     "outputs": [
      {
       "output_type": "stream",
       "stream": "stdout",
       "text": [
        "[(0.0038857407193246211, 'a'), (0.0, 'all'), (0.0, 'also'), (0.0, 'an'), (0.0053802563806033196, 'and'), (0.018064524535905152, 'any'), (0.011318180764490425, 'are'), (0.026364336046386428, 'as'), (0.0, 'at'), (0.03121499437238676, 'be'), (0.0068000462588180873, 'been'), (0.0044509393694082055, 'but'), (0.009455302417023248, 'by'), (0.0, 'can'), (0.0, 'do'), (0.064315393040350263, 'down'), (0.0, 'even'), (0.016713889210130683, 'every'), (0.0044408465363709963, 'for'), (0.0051926620523422493, 'from'), (0.065218082911150624, 'had'), (0.0079013496961120831, 'has'), (0.00077714814386492667, 'have'), (0.030898986615430352, 'her'), (0.0049959523534173714, 'his'), (0.0, 'if'), (0.0, 'in'), (0.0, 'into'), (0.0029143055394934658, 'is'), (0.0089048224817855921, 'it'), (0.084491203594283776, 'its'), (0.17458632980051977, 'may'), (0.0, 'more'), (0.017650172401104551, 'must'), (0.0285642167929566, 'my'), (0.006411472186885623, 'no'), (0.0048571758991557768, 'not'), (0.0041948337310890775, 'now'), (0.0099919047068347394, 'of'), (0.0, 'on'), (0.0, 'one'), (0.0, 'only'), (0.012223173284034047, 'or'), (0.0, 'our'), (0.032249394203728937, 'should'), (0.020525270558466077, 'so'), (0.0038857407193246211, 'some'), (0.012868046721406267, 'such'), (0.0054580457875718358, 'than'), (0.0037885972013415063, 'that'), (0.015053740831467217, 'the'), (0.0049354865554926781, 'their'), (0.0, 'then'), (0.0058286110789869316, 'there'), (0.0, 'things'), (0.0022666820862726955, 'this'), (0.043732613518088249, 'to'), (0.009932844403504346, 'up'), (0.012831318814976683, 'upon'), (0.021748005088469986, 'was'), (0.0, 'were'), (0.024045538234698998, 'what'), (0.0, 'when'), (0.0060809609073108842, 'which'), (0.0083063402350130721, 'who'), (0.01455247994884319, 'will'), (0.0029143055394934658, 'with'), (0.037901701149678842, 'would'), (0.024387293058508518, 'your'), (0.014528741515696057, 'BookID')]\n"
       ]
      }
     ],
     "prompt_number": 19
    },
    {
     "cell_type": "markdown",
     "metadata": {},
     "source": [
      "What if we brute force our way to the right answer? (Slow computers, be cautious!)"
     ]
    },
    {
     "cell_type": "code",
     "collapsed": false,
     "input": [
      "clf1 = ExtraTreesClassifier(n_estimators=10000, random_state=10).fit(x_train, y_train)\n",
      "print ExtraTreesClassifier.__name__, 'results'\n",
      "print metrics.confusion_matrix(clf1.predict(x_test), y_test)\n",
      "\n",
      "clf2 = AdaBoostClassifier(n_estimators=10000, random_state=10).fit(x_train, y_train)\n",
      "print AdaBoostClassifier.__name__, 'results'\n",
      "print metrics.confusion_matrix(clf2.predict(x_test), y_test)"
     ],
     "language": "python",
     "metadata": {},
     "outputs": [
      {
       "output_type": "stream",
       "stream": "stdout",
       "text": [
        "ExtraTreesClassifier results\n",
        "[[135   1   0   0]\n",
        " [  1  98   0   1]\n",
        " [  0   0  20   0]\n",
        " [  0   0   0  81]]"
       ]
      },
      {
       "output_type": "stream",
       "stream": "stdout",
       "text": [
        "\n",
        "AdaBoostClassifier"
       ]
      },
      {
       "output_type": "stream",
       "stream": "stdout",
       "text": [
        " results\n",
        "[[132   0   0   0]\n",
        " [  4  97   0   6]\n",
        " [  0   0  18   0]\n",
        " [  0   2   2  76]]"
       ]
      },
      {
       "output_type": "stream",
       "stream": "stdout",
       "text": [
        "\n"
       ]
      }
     ],
     "prompt_number": 20
    },
    {
     "cell_type": "markdown",
     "metadata": {},
     "source": [
      "##Timing\n",
      "\n",
      "Try timing the above on your machine (you can use datetimes to get a simple approach here)\n"
     ]
    },
    {
     "cell_type": "code",
     "collapsed": false,
     "input": [
      "from datetime import datetime\n",
      "\n",
      "a = datetime.now()\n",
      "clf1 = ExtraTreesClassifier(n_estimators=100, random_state=10).fit(x_train, y_train)\n",
      "print \"High Number of Trees Timing:\", datetime.now() - a\n",
      "    \n",
      "a = datetime.now()\n",
      "clf2 = AdaBoostClassifier(n_estimators=100, random_state=10).fit(x_train, y_train)\n",
      "print \"AdaBoost Timing:            \", datetime.now() - a"
     ],
     "language": "python",
     "metadata": {},
     "outputs": [
      {
       "output_type": "stream",
       "stream": "stdout",
       "text": [
        "High Number of Trees Timing: 0:00:00.147925\n",
        "AdaBoost Timing:            "
       ]
      },
      {
       "output_type": "stream",
       "stream": "stdout",
       "text": [
        " 0:00:00.252141\n"
       ]
      }
     ],
     "prompt_number": 23
    },
    {
     "cell_type": "code",
     "collapsed": false,
     "input": [
      "dir(clf1.estimators_[0])"
     ],
     "language": "python",
     "metadata": {},
     "outputs": [
      {
       "metadata": {},
       "output_type": "pyout",
       "prompt_number": 26,
       "text": [
        "['__abstractmethods__',\n",
        " '__class__',\n",
        " '__delattr__',\n",
        " '__dict__',\n",
        " '__doc__',\n",
        " '__format__',\n",
        " '__getattribute__',\n",
        " '__hash__',\n",
        " '__init__',\n",
        " '__module__',\n",
        " '__new__',\n",
        " '__reduce__',\n",
        " '__reduce_ex__',\n",
        " '__repr__',\n",
        " '__setattr__',\n",
        " '__sizeof__',\n",
        " '__str__',\n",
        " '__subclasshook__',\n",
        " '__weakref__',\n",
        " '_abc_cache',\n",
        " '_abc_negative_cache',\n",
        " '_abc_negative_cache_version',\n",
        " '_abc_registry',\n",
        " '_get_param_names',\n",
        " 'classes_',\n",
        " 'criterion',\n",
        " 'feature_importances_',\n",
        " 'fit',\n",
        " 'fit_transform',\n",
        " 'get_params',\n",
        " 'max_depth',\n",
        " 'max_features',\n",
        " 'max_features_',\n",
        " 'max_leaf_nodes',\n",
        " 'min_samples_leaf',\n",
        " 'min_samples_split',\n",
        " 'n_classes_',\n",
        " 'n_features_',\n",
        " 'n_outputs_',\n",
        " 'predict',\n",
        " 'predict_log_proba',\n",
        " 'predict_proba',\n",
        " 'random_state',\n",
        " 'score',\n",
        " 'set_params',\n",
        " 'splitter',\n",
        " 'transform',\n",
        " 'tree_']"
       ]
      }
     ],
     "prompt_number": 26
    },
    {
     "cell_type": "code",
     "collapsed": false,
     "input": [
      "clf1.estimators_[0].feature_importances_"
     ],
     "language": "python",
     "metadata": {},
     "outputs": [
      {
       "metadata": {},
       "output_type": "pyout",
       "prompt_number": 37,
       "text": [
        "70"
       ]
      }
     ],
     "prompt_number": 37
    },
    {
     "cell_type": "code",
     "collapsed": false,
     "input": [],
     "language": "python",
     "metadata": {},
     "outputs": []
    }
   ],
   "metadata": {}
  }
 ]
}