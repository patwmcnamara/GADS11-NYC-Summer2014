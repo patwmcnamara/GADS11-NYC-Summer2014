{
 "metadata": {
  "name": "",
  "signature": "sha256:6cbbce17bf4c617d4ca7c011e583e9b0f6ccc7b2eece51d9b4f6e9d7041bb900"
 },
 "nbformat": 3,
 "nbformat_minor": 0,
 "worksheets": [
  {
   "cells": [
    {
     "cell_type": "markdown",
     "metadata": {},
     "source": [
      "# Regular Expressions\n",
      "\n",
      "The most useful hour in the entire course."
     ]
    },
    {
     "cell_type": "code",
     "collapsed": false,
     "input": [
      "from IPython.display import HTML\n",
      "HTML('''\n",
      "<style>\n",
      ".text_cell_render {\n",
      "  background-color: LightGray;\n",
      "}\n",
      "</style>\n",
      "''')"
     ],
     "language": "python",
     "metadata": {},
     "outputs": [
      {
       "html": [
        "\n",
        "<style>\n",
        ".text_cell_render {\n",
        "  background-color: LightGray;\n",
        "}\n",
        "</style>\n"
       ],
       "metadata": {},
       "output_type": "pyout",
       "prompt_number": 1,
       "text": [
        "<IPython.core.display.HTML at 0x10f2d12d0>"
       ]
      }
     ],
     "prompt_number": 1
    },
    {
     "cell_type": "markdown",
     "metadata": {},
     "source": [
      "# Part 1: Basic Patterns\n",
      "\n",
      "The basis of Regular Expressions (*regex*es) can get really deep into formal language theory and automata, but we don't need to know any of that to make use of them. Most regex implementations aren't actually *regular* in that they include extensions to the syntax, but we don't need to know about that distinction, either. Regexes are used all over for matching patterns in text. Your basic *Find* function in text editors and web browsers can be easily implemented using regexes to find exact matches of words or phrases. Regexes let you be incredibly precise. If you want to match words with *season* in it as long it's not *seasoning*, you can do that. If you want to find any dates matching the form 'YYYY-MM-DD', you can do that. If you want to matching text where the line starts with or ends with a particular word, you can do that.\n",
      "\n",
      "Regexes by themselves are just patterns encoded as strings. The most basic regexes are just alphanumeric characters. The regex, `'cat'`, will match any string containing those three characters in that order. Study the cells below. We use Python's regular expression module. [The docs](https://docs.python.org/2/library/re.html) will probably prove useful.\n",
      "\n",
      "**NOTES**: Keep in mind throughout the lab that regexes are like mini programs where whitespace is quite meaningful. Unlike a Python program, an extra space can drastically change the outcome.\n",
      "\n",
      "Also, since some regex special characters coincide with special characters in Python strings, it's good practice to express regexes as raw strings. e.g. `r'a raw string'`. The `r` prefix indicates a raw string."
     ]
    },
    {
     "cell_type": "code",
     "collapsed": false,
     "input": [
      "import re  # this is python's regular expression module.\n",
      "\n",
      "r = re.search(r'cat', 'concatenate')  # this returns a match object\n",
      "print r"
     ],
     "language": "python",
     "metadata": {},
     "outputs": [
      {
       "output_type": "stream",
       "stream": "stdout",
       "text": [
        "<_sre.SRE_Match object at 0x10e75f2a0>\n"
       ]
      }
     ],
     "prompt_number": 2
    },
    {
     "cell_type": "code",
     "collapsed": false,
     "input": [
      "r.group()  # this will return the matching portion of the input string"
     ],
     "language": "python",
     "metadata": {},
     "outputs": [
      {
       "metadata": {},
       "output_type": "pyout",
       "prompt_number": 3,
       "text": [
        "'cat'"
       ]
      }
     ],
     "prompt_number": 3
    },
    {
     "cell_type": "code",
     "collapsed": false,
     "input": [
      "# note that match objects evaluate to True\n",
      "if r:\n",
      "    print r.group()"
     ],
     "language": "python",
     "metadata": {},
     "outputs": [
      {
       "output_type": "stream",
       "stream": "stdout",
       "text": [
        "cat\n"
       ]
      }
     ],
     "prompt_number": 4
    },
    {
     "cell_type": "code",
     "collapsed": false,
     "input": [
      "r2 = re.search(r'cat', 'caat')  # this string does not match, so the method returns `None`.\n",
      "print r2"
     ],
     "language": "python",
     "metadata": {},
     "outputs": [
      {
       "output_type": "stream",
       "stream": "stdout",
       "text": [
        "None\n"
       ]
      }
     ],
     "prompt_number": 5
    },
    {
     "cell_type": "code",
     "collapsed": false,
     "input": [
      "# Different cases are different characters, as far as regexes are concerned.\n",
      "# Some implementations allow you to specify case-insensitive matching, though.\n",
      "r2 = re.search(r'cat', 'Cat')\n",
      "print r2"
     ],
     "language": "python",
     "metadata": {},
     "outputs": [
      {
       "output_type": "stream",
       "stream": "stdout",
       "text": [
        "None\n"
       ]
      }
     ],
     "prompt_number": 6
    },
    {
     "cell_type": "markdown",
     "metadata": {},
     "source": [
      "At this point, all we're doing is returning the exact pattern that we're searching for. It's useful to know whether the pattern `'cat'` occurs at all in the text, but there is much more we can do.\n",
      "\n",
      "Let's write a regex that will match documents in which either `'cat'` or `'dog'` occur. To do these, we use *alternation*. You can think of it as a logical `OR`. `'(patternA|patternB)'` will match strings that match either pattern."
     ]
    },
    {
     "cell_type": "code",
     "collapsed": false,
     "input": [
      "print 'match!' if re.search(r'(cat|dog)', 'dogcatcher') else 'no match.'\n",
      "print 'match!' if re.search(r'(cat|dog)', 'concatenation') else 'no match.'\n",
      "print 'match!' if re.search(r'(cat|dog)', 'dogmatic') else 'no match.'\n",
      "print 'match!' if re.search(r'(cat|dog)', 'cog') else 'no match.'"
     ],
     "language": "python",
     "metadata": {},
     "outputs": [
      {
       "output_type": "stream",
       "stream": "stdout",
       "text": [
        "match!\n",
        "match!\n",
        "match!\n",
        "no match.\n"
       ]
      }
     ],
     "prompt_number": 7
    },
    {
     "cell_type": "markdown",
     "metadata": {},
     "source": [
      "Single-character alternation is common enough that there's a shortcut: `[...]`. A character that matches any characters inside the brackets will match. So the strings 'cat' and 'bat' will both match `'[cb]at'`. You can also specify ranges of characters. For all alphanumeric characters, you can specify, `'[a-zA-Z0-9]'`."
     ]
    },
    {
     "cell_type": "code",
     "collapsed": false,
     "input": [
      "print 'match!' if re.search(r'[cC]at', 'catcher') else 'no match.'\n",
      "print 'match!' if re.search(r'[cC]at', 'Catcher') else 'no match.'\n",
      "print 'match!' if re.search(r'[cC]at', 'at') else 'no match.'\n",
      "print 'match!' if re.search(r'[cC]at', 'Cad') else 'no match.'"
     ],
     "language": "python",
     "metadata": {},
     "outputs": [
      {
       "output_type": "stream",
       "stream": "stdout",
       "text": [
        "match!\n",
        "match!\n",
        "no match.\n",
        "no match.\n"
       ]
      }
     ],
     "prompt_number": 8
    },
    {
     "cell_type": "markdown",
     "metadata": {},
     "source": [
      "If the carat (`^`) character is the first character inside the brackets, it means the regex should match everything EXCEPT the subsequent characters."
     ]
    },
    {
     "cell_type": "code",
     "collapsed": false,
     "input": [
      "print 'match!' if re.search(r'[^cC]at', 'catcher') else 'no match.'\n",
      "print 'match!' if re.search(r'[^A-Z0-9]at', 'catcher') else 'no match.'"
     ],
     "language": "python",
     "metadata": {},
     "outputs": [
      {
       "output_type": "stream",
       "stream": "stdout",
       "text": [
        "no match.\n",
        "match!\n"
       ]
      }
     ],
     "prompt_number": 9
    },
    {
     "cell_type": "markdown",
     "metadata": {},
     "source": [
      "Several groups of related characters are also given shortcuts.\n",
      "\n",
      "* `\\d` matches any digit. Equivalent to `[0-9]`.\n",
      "* `\\w` matches any alphanumeric character or underscore. Equivalent to `[a-zA-z0-9_]`.\n",
      "* `\\s` matches any whitespace character (space, tab, newline...) Equivalent to `[ \\t\\n\\r\\f\\v]`.\n",
      "\n",
      "Capital `\\D`, `\\W`, and `\\S` match everything BUT these character sets.\n",
      "\n",
      "**NOTE**: these are not all available in every implementation of regular expressions. e.g. `grep` only implements `\\w` and `\\W`.\n",
      "\n",
      "The final shortcut that is universally implemented (as far as I know) is `.`. The period matches any character.\n",
      "\n",
      "To match a period literal, escape it with a backslash: `\\.`. This goes for any other special character, like parentheses. NOTE: in some implementations like in `grep`, it can be opposite. Parens are literals UNLESS they're escaped."
     ]
    },
    {
     "cell_type": "code",
     "collapsed": false,
     "input": [
      "text = 'I am a......\\tdifficult STRING 2match.'\n",
      "print text\n",
      "print\n",
      "print '\\wTRIN\\w \\t', re.findall(r'\\wTRIN\\w', text)\n",
      "print '\\d \\t\\t', re.findall(r'\\d', text)\n",
      "print '\\w\\w\\w\\s \\t', re.findall(r'\\w\\w\\w\\s', text)\n",
      "print '\\WTRIN\\W \\t', re.findall(r'\\WTRIN\\W', text)\n",
      "print '\\DTRIN\\S \\t', re.findall(r'\\DTRIN\\S', text)\n",
      "print 'a.. \\t\\t', re.findall(r'a..', text)\n",
      "print 'a\\.\\. \\t\\t', re.findall(r'a\\.\\.', text)"
     ],
     "language": "python",
     "metadata": {},
     "outputs": [
      {
       "output_type": "stream",
       "stream": "stdout",
       "text": [
        "I am a......\tdifficult STRING 2match.\n",
        "\n",
        "\\wTRIN\\w \t['STRING']\n",
        "\\d \t\t['2']\n",
        "\\w\\w\\w\\s \t['ult ', 'ING ']\n",
        "\\WTRIN\\W \t[]\n",
        "\\DTRIN\\S \t['STRING']\n",
        "a.. \t\t['am ', 'a..', 'atc']\n",
        "a\\.\\. \t\t['a..']\n"
       ]
      }
     ],
     "prompt_number": 41
    },
    {
     "cell_type": "markdown",
     "metadata": {},
     "source": [
      "## Exercises\n",
      "\n",
      "You have string literals (`abc...`), alternation (`'(a|b)'`), character sets (`'[^w-z]'`), and some special characters (`'\\w\\s\\d.'`). This is enough to do some useful pattern matching. There are two tasks you will generally encounter. 1: Does my regex pattern match any part of this string? 2: What part(s) of the string matches my regex pattern, if any?\n",
      "\n",
      "For now, let's consider the first task. Write regexes that match all the elements in the match lists, but none of the elements in the exclude lists."
     ]
    },
    {
     "cell_type": "code",
     "collapsed": false,
     "input": [
      "def test_pattern(pattern, match_list, exclude_list):\n",
      "    '''\n",
      "    Tests whether the pattern matches every string in the match\n",
      "    list and none of the string in the exclude list.\n",
      "    \n",
      "    Args:\n",
      "        pattern - regular expression pattern\n",
      "        match_list - list of strings to match\n",
      "        exclude_list - list of strings to not match\n",
      "    '''\n",
      "\n",
      "    num_errors = 0\n",
      "    for string in match_list:\n",
      "        if not re.findall(pattern, string):\n",
      "            print 'failed to match:', string\n",
      "            num_errors += 1\n",
      "\n",
      "    for string in exclude_list:\n",
      "        matches = re.findall(pattern, string)\n",
      "        if matches:\n",
      "            print string, '- incorrectly matched on:', ','.join(matches)\n",
      "            num_errors += 1\n",
      "\n",
      "    if not num_errors:\n",
      "        print 'success!'"
     ],
     "language": "python",
     "metadata": {},
     "outputs": [],
     "prompt_number": 11
    },
    {
     "cell_type": "code",
     "collapsed": false,
     "input": [
      "# FILL IN THE PATTERN\n",
      "pattern = r'ion|ous'  # 'o' also works\n",
      "\n",
      "# don't edit below\n",
      "match_list = ['perspicuous',\n",
      "              'perspicacious',\n",
      "              'perspiration'\n",
      "              ]\n",
      "exclude_list = ['perspicacity',\n",
      "                'perspicuity',\n",
      "                ]\n",
      "\n",
      "# this tests your pattern.\n",
      "test_pattern(pattern, match_list, exclude_list)"
     ],
     "language": "python",
     "metadata": {},
     "outputs": [
      {
       "output_type": "stream",
       "stream": "stdout",
       "text": [
        "success!\n"
       ]
      }
     ],
     "prompt_number": 12
    },
    {
     "cell_type": "code",
     "collapsed": false,
     "input": [
      "# FILL IN THE PATTERN\n",
      "pattern = r'\\d\\d\\d\\d-\\d\\d-[0-3]\\d'\n",
      "\n",
      "# don't edit below\n",
      "match_list = ['data_file.2013-07-01.csv',\n",
      "              'data_file.2014-08-02.csv',\n",
      "              'data_file.1990-12-31.csv'\n",
      "              ]\n",
      "exclude_list = ['data_file.07/01/2013.csv',\n",
      "                'data_file.2013.csv',\n",
      "                'data_file.2013-07-50.csv'\n",
      "                ]\n",
      "\n",
      "# this tests your pattern.\n",
      "test_pattern(pattern, match_list, exclude_list)"
     ],
     "language": "python",
     "metadata": {},
     "outputs": [
      {
       "output_type": "stream",
       "stream": "stdout",
       "text": [
        "success!\n"
       ]
      }
     ],
     "prompt_number": 13
    },
    {
     "cell_type": "markdown",
     "metadata": {},
     "source": [
      "# Part 2: Repetition - When lengths can vary or don't matter\n",
      "\n",
      "Regexes typically provide a way to match repetitions of patterns. The constructs to know are:\n",
      "\n",
      "* Kleene star: `*` - Matches 0 or more instances of the preceding element\n",
      "* Kleene plus: `+` - Matches 1 or more instances of the preceding element\n",
      "* `?` - Matches 0 or 1 instances of the preceding element\n",
      "* `{n}` - Matches n instances of the preceding element\n",
      "* `{n,m}` - Matches between n and m instances of the preceding element. n or m can be blank"
     ]
    },
    {
     "cell_type": "code",
     "collapsed": false,
     "input": [
      "text = 'I am a......\\tdifficult STRING 2match.'\n",
      "print text\n",
      "print\n",
      "print '.a\\.*. \\t\\t', re.findall(r'.a\\.*.', text)\n",
      "print '.a\\.+. \\t\\t', re.findall(r'.a\\.+.', text)\n",
      "print '\\w\\.\\.? \\t', re.findall(r'\\w\\.\\.?', text)\n",
      "print '\\w\\.{2} \\t', re.findall(r'\\w\\.{2}', text)\n",
      "print '\\w\\.{1,2} \\t', re.findall(r'\\w\\.{1,2}', text)\n",
      "print '.a\\.{3,}. \\t', re.findall(r'.a\\.{3,}.', text)\n",
      "print '.a\\.{,3}. \\t', re.findall(r'.a\\.{,3}.', text)"
     ],
     "language": "python",
     "metadata": {},
     "outputs": [
      {
       "output_type": "stream",
       "stream": "stdout",
       "text": [
        "I am a......\tdifficult STRING 2match.\n",
        "\n",
        ".a\\.*. \t\t[' am', ' a......\\t', 'mat']\n",
        ".a\\.+. \t\t[' a......\\t']\n",
        "\\w\\.\\.? \t['a..', 'h.']\n",
        "\\w\\.{2} \t['a..']\n",
        "\\w\\.{1,2} \t['a..', 'h.']\n",
        ".a\\.{3,}. \t[' a......\\t']\n",
        ".a\\.{,3}. \t[' am', ' a....', 'mat']\n"
       ]
      }
     ],
     "prompt_number": 40
    },
    {
     "cell_type": "markdown",
     "metadata": {},
     "source": [
      "Try it out. This time, try to match the target strings out of larger text."
     ]
    },
    {
     "cell_type": "code",
     "collapsed": false,
     "input": [
      "def test_pattern2(pattern, text, targets):\n",
      "    '''\n",
      "    Tests whether the pattern matches every target in the text.\n",
      "    \n",
      "    Args:\n",
      "        pattern - regular expression pattern\n",
      "        text - the text from which to match targets\n",
      "        targets - list of strings to find in the text\n",
      "    '''\n",
      "\n",
      "    found = sorted(re.findall(pattern, text))\n",
      "    if found == sorted(targets):\n",
      "        print 'success!'\n",
      "        return\n",
      "    else:\n",
      "        found = set(found)\n",
      "        for string in set(targets) - found:\n",
      "            print 'missed:', string\n",
      "\n",
      "        for string in found - set(targets):\n",
      "            print 'erroneously matched:', string"
     ],
     "language": "python",
     "metadata": {},
     "outputs": [],
     "prompt_number": 15
    },
    {
     "cell_type": "code",
     "collapsed": false,
     "input": [
      "text = '''\n",
      "To be, or not to be, that is the question-\n",
      "Whether 'tis Nobler in the mind to suffer\n",
      "The Slings and Arrows of outrageous Fortune,\n",
      "Or to take Arms against a Sea of troubles,\n",
      "And by opposing end them? To die, to sleep-\n",
      "No more; and by a sleep, to say we end\n",
      "The Heart-ache, and the thousand Natural shocks\n",
      "That Flesh is heir to? 'Tis a consummation\n",
      "Devoutly to be wished. To die, to sleep,\n",
      "To sleep, perchance to Dream; Aye, there's the rub,\n",
      "For in that sleep of death, what dreams may come,\n",
      "When we have shuffled off this mortal coil,\n",
      "Must give us pause. There's the respect\n",
      "That makes Calamity of so long life:\n",
      "For who would bear the Whips and Scorns of time,\n",
      "The Oppressor's wrong, the proud man's Contumely,\n",
      "The pangs of despised Love, the Law\u2019s delay,\n",
      "The insolence of Office, and the Spurns\n",
      "That patient merit of the unworthy takes,\n",
      "When he himself might his Quietus make\n",
      "With a bare Bodkin? Who would these Fardels bear,\n",
      "To grunt and sweat under a weary life,\n",
      "But that the dread of something after death,\n",
      "The undiscovered Country, from whose bourn\n",
      "No Traveler returns, Puzzles the will,\n",
      "And makes us rather bear those ills we have,\n",
      "Than fly to others that we know not of.\n",
      "Thus Conscience does make Cowards of us all,\n",
      "And thus the Native hue of Resolution\n",
      "Is sicklied o'er, with the pale cast of Thought,\n",
      "And enterprises of great pitch and moment,\n",
      "With this regard their Currents turn awry,\n",
      "And lose the name of Action. Soft you now,\n",
      "The fair Ophelia. Nymph, in all thy Orisons\n",
      "Be thou all my sins remembered.\n",
      "'''"
     ],
     "language": "python",
     "metadata": {},
     "outputs": [],
     "prompt_number": 43
    },
    {
     "cell_type": "code",
     "collapsed": false,
     "input": [
      "# FILL IN THE PATTERN\n",
      "pattern = r'[tT]o \\w+'\n",
      "# find all the infinitives. i.e. verbs of the form: 'to ___'\n",
      "\n",
      "# don't edit below\n",
      "targets = ['To be',\n",
      "           'to be',\n",
      "           'to suffer',\n",
      "           'to take',\n",
      "           'To die',\n",
      "           'to sleep',\n",
      "           'to say',\n",
      "           'to be',\n",
      "           'To die',\n",
      "           'to sleep',\n",
      "           'To sleep',\n",
      "           'to Dream',\n",
      "           'To grunt',\n",
      "           'to others']\n",
      "\n",
      "# this tests your pattern.\n",
      "test_pattern2(pattern, text, targets)"
     ],
     "language": "python",
     "metadata": {},
     "outputs": [
      {
       "output_type": "stream",
       "stream": "stdout",
       "text": [
        "success!\n"
       ]
      }
     ],
     "prompt_number": 17
    },
    {
     "cell_type": "code",
     "collapsed": false,
     "input": [
      "# FILL IN THE PATTERN\n",
      "pattern = r'[tT]o \\w{3,5}[^\\w\\s]'\n",
      "# find all the 3-5 letter infinitives that are followed by a non-whitespace character.\n",
      "\n",
      "# don't edit below\n",
      "targets = ['To die,',\n",
      "           'to sleep-',\n",
      "           'To die,',\n",
      "           'to sleep,',\n",
      "           'To sleep,',\n",
      "           'to Dream;']\n",
      "\n",
      "# this tests your pattern.\n",
      "test_pattern2(pattern, text, targets)"
     ],
     "language": "python",
     "metadata": {},
     "outputs": [
      {
       "output_type": "stream",
       "stream": "stdout",
       "text": [
        "success!\n"
       ]
      }
     ],
     "prompt_number": 18
    },
    {
     "cell_type": "code",
     "collapsed": false,
     "input": [
      "# New text\n",
      "html = '''\n",
      "\"To be, or not to be...\" is the opening phrase of a <a href=\"/wiki/Soliloquy\" title=\"Soliloquy\">soliloquy</a> in the \"Nunnery Scene\" of <a href=\"/wiki/William_Shakespeare\" title=\"William Shakespeare\">William Shakespeare</a>'s play <a href=\"/wiki/Hamlet\" title=\"Hamlet\">Hamlet</a>.\n",
      "'''"
     ],
     "language": "python",
     "metadata": {},
     "outputs": [],
     "prompt_number": 19
    },
    {
     "cell_type": "code",
     "collapsed": false,
     "input": [
      "# FILL IN THE PATTERN\n",
      "pattern = r'<[^>]+>'\n",
      "# find all of the html tags: <anything>\n",
      "\n",
      "# don't edit below\n",
      "targets = ['<a href=\"/wiki/Soliloquy\" title=\"Soliloquy\">',\n",
      "           '</a>',\n",
      "           '<a href=\"/wiki/William_Shakespeare\" title=\"William Shakespeare\">',\n",
      "           '</a>',\n",
      "           '<a href=\"/wiki/Hamlet\" title=\"Hamlet\">',\n",
      "           '</a>']\n",
      "\n",
      "# this tests your pattern.\n",
      "test_pattern2(pattern, html, targets)"
     ],
     "language": "python",
     "metadata": {},
     "outputs": [
      {
       "output_type": "stream",
       "stream": "stdout",
       "text": [
        "success!\n"
       ]
      }
     ],
     "prompt_number": 20
    },
    {
     "cell_type": "markdown",
     "metadata": {},
     "source": [
      "You might have noticed that the obvious pattern for the last exercise, `'<.+>'` matches too much. These repetition operators are greedy in the sense that they will match as much text as they can.\n",
      "\n",
      "You were probably able to come up with a solution. But there are non-greedy variations on these operators: `*?`, `+?`, `??`, `{n, m}?`.\n",
      "\n",
      "See if you can solve the same problem more simply with a non-greedy operator."
     ]
    },
    {
     "cell_type": "code",
     "collapsed": false,
     "input": [
      "# FILL IN THE PATTERN\n",
      "pattern = r'<.+?>'\n",
      "# find all of the html tags using a non-greedy operator\n",
      "\n",
      "# don't edit below\n",
      "targets = ['<a href=\"/wiki/Soliloquy\" title=\"Soliloquy\">',\n",
      "           '</a>',\n",
      "           '<a href=\"/wiki/William_Shakespeare\" title=\"William Shakespeare\">',\n",
      "           '</a>',\n",
      "           '<a href=\"/wiki/Hamlet\" title=\"Hamlet\">',\n",
      "           '</a>']\n",
      "\n",
      "# this tests your pattern.\n",
      "test_pattern2(pattern, html, targets)"
     ],
     "language": "python",
     "metadata": {},
     "outputs": [
      {
       "output_type": "stream",
       "stream": "stdout",
       "text": [
        "success!\n"
       ]
      }
     ],
     "prompt_number": 21
    },
    {
     "cell_type": "markdown",
     "metadata": {},
     "source": [
      "# Part 3: Capture Groups - When you only want to return a portion of the match\n",
      "\n",
      "By this point, you may have played around with parentheses aside from their use in alternations. What you may not have noticed is that they affect the matched patterns. Consider the differences between the following two regexes on our snippet of Hamlet."
     ]
    },
    {
     "cell_type": "code",
     "collapsed": false,
     "input": [
      "re.findall(r'\\w+\\s\\w+\\?', text)  # the last two words of his questions."
     ],
     "language": "python",
     "metadata": {},
     "outputs": [
      {
       "metadata": {},
       "output_type": "pyout",
       "prompt_number": 22,
       "text": [
        "['end them?', 'heir to?', 'bare Bodkin?']"
       ]
      }
     ],
     "prompt_number": 22
    },
    {
     "cell_type": "code",
     "collapsed": false,
     "input": [
      "re.findall(r'(\\w+\\s\\w+)\\?', text)  # the last two words of his questions."
     ],
     "language": "python",
     "metadata": {},
     "outputs": [
      {
       "metadata": {},
       "output_type": "pyout",
       "prompt_number": 23,
       "text": [
        "['end them', 'heir to', 'bare Bodkin']"
       ]
      }
     ],
     "prompt_number": 23
    },
    {
     "cell_type": "markdown",
     "metadata": {},
     "source": [
      "Enclosing a pattern in parentheses creates a capture group. You can create as many you like, and they can be nested. They are sorted by the opening parenthesis."
     ]
    },
    {
     "cell_type": "code",
     "collapsed": false,
     "input": [
      "re.findall(r'((\\w+)\\s(\\w+))\\?', text)  # the last two words of his questions together, then separately."
     ],
     "language": "python",
     "metadata": {},
     "outputs": [
      {
       "metadata": {},
       "output_type": "pyout",
       "prompt_number": 24,
       "text": [
        "[('end them', 'end', 'them'),\n",
        " ('heir to', 'heir', 'to'),\n",
        " ('bare Bodkin', 'bare', 'Bodkin')]"
       ]
      }
     ],
     "prompt_number": 24
    },
    {
     "cell_type": "code",
     "collapsed": false,
     "input": [
      "# FILL IN THE PATTERN\n",
      "pattern = r'([tT]o \\w{3,5})\\W'\n",
      "# find all the 3-5 letter infinitives.\n",
      "\n",
      "# don't edit below\n",
      "targets = ['to take',\n",
      "           'To die',\n",
      "           'to sleep',\n",
      "           'to say',\n",
      "           'To die',\n",
      "           'to sleep',\n",
      "           'To sleep',\n",
      "           'to Dream',\n",
      "           'To grunt']\n",
      "\n",
      "# this tests your pattern.\n",
      "test_pattern2(pattern, text, targets)"
     ],
     "language": "python",
     "metadata": {},
     "outputs": [
      {
       "output_type": "stream",
       "stream": "stdout",
       "text": [
        "success!\n"
       ]
      }
     ],
     "prompt_number": 25
    },
    {
     "cell_type": "code",
     "collapsed": false,
     "input": [
      "re.findall(r'([tT]o \\w{3,5})\\W', text)"
     ],
     "language": "python",
     "metadata": {},
     "outputs": [
      {
       "metadata": {},
       "output_type": "pyout",
       "prompt_number": 26,
       "text": [
        "['to take',\n",
        " 'To die',\n",
        " 'to sleep',\n",
        " 'to say',\n",
        " 'To die',\n",
        " 'to sleep',\n",
        " 'To sleep',\n",
        " 'to Dream',\n",
        " 'To grunt']"
       ]
      }
     ],
     "prompt_number": 26
    },
    {
     "cell_type": "markdown",
     "metadata": {},
     "source": [
      "# More Special Characters - For more expressiveness\n",
      "\n",
      "There are a few more special characters that are essentially standard. These are:\n",
      "\n",
      "* `^` - Matches the start of a text/line (Python defaults to text)\n",
      "* `$` - Matches the end of a text/line (Python defaults to text)\n",
      "* `\\b` - Matches the boundary of a word\n",
      "\n",
      "**NOTE**: These all have a different meaning inside of character ranges (`[]`). `^` means negation, `$` means the character `$`, and `\\b` means backspace."
     ]
    },
    {
     "cell_type": "code",
     "collapsed": false,
     "input": [
      "print '^W\\w+ \\t\\t', re.findall(r'^W\\w+', text, re.M)  # re.M chooses multiline mode\n",
      "print '\\w+\\.$ \\t\\t', re.findall(r'\\w+\\.$', text, re.M)  # even Shakespeare ended sentences with prepositions.\n",
      "print '..and.. \\t', re.findall(r'..and..', text, re.M)\n",
      "print r'..\\band\\b..', '\\t', re.findall(r'..\\band\\b..', text, re.M)"
     ],
     "language": "python",
     "metadata": {},
     "outputs": [
      {
       "output_type": "stream",
       "stream": "stdout",
       "text": [
        "^W\\w+ \t\t['Whether', 'When', 'When', 'With', 'With']\n",
        "\\w+\\.$ \t\t['of.', 'remembered.']\n",
        "..and.. \t['s and A', '; and b', ', and t', 'usand N', 's and S', ', and t', 't and s', 'h and m']\n",
        "..\\band\\b.. \t['s and A', '; and b', ', and t', 's and S', ', and t', 't and s', 'h and m']\n"
       ]
      }
     ],
     "prompt_number": 55
    },
    {
     "cell_type": "code",
     "collapsed": false,
     "input": [
      "# FILL IN THE PATTERN\n",
      "pattern = r'[tT]o \\w{3,5}\\b'\n",
      "# find all the 3-5 letter infinitives without groups and using one of the new special characters.\n",
      "\n",
      "# don't edit below\n",
      "targets = ['to take',\n",
      "           'To die',\n",
      "           'to sleep',\n",
      "           'to say',\n",
      "           'To die',\n",
      "           'to sleep',\n",
      "           'To sleep',\n",
      "           'to Dream',\n",
      "           'To grunt']\n",
      "\n",
      "# this tests your pattern.\n",
      "test_pattern2(pattern, text, targets)"
     ],
     "language": "python",
     "metadata": {},
     "outputs": [
      {
       "output_type": "stream",
       "stream": "stdout",
       "text": [
        "success!\n"
       ]
      }
     ],
     "prompt_number": 56
    },
    {
     "cell_type": "code",
     "collapsed": false,
     "input": [
      "# FILL IN THE PATTERN\n",
      "pattern = r'[^z]$'\n",
      "\n",
      "# don't edit below\n",
      "match_list = ['data_file.2013-07-01.csv',\n",
      "              'data_file.2013-07-02.csv',\n",
      "              'data_file.2013-07-03.csv'\n",
      "              ]\n",
      "exclude_list = ['data_file.2013-07-01.csv.gz',\n",
      "                'data_file.2013-07-02.csv.gz',\n",
      "                'data_file.2013-07-03.csv.gz'\n",
      "                ]\n",
      "\n",
      "# this tests your pattern.\n",
      "test_pattern(pattern, match_list, exclude_list)"
     ],
     "language": "python",
     "metadata": {},
     "outputs": [
      {
       "output_type": "stream",
       "stream": "stdout",
       "text": [
        "success!\n"
       ]
      }
     ],
     "prompt_number": 66
    },
    {
     "cell_type": "markdown",
     "metadata": {},
     "source": [
      "# Other Regex Engines\n",
      "\n",
      "* Grep/Egrep - *nix command line utility for regex matching line by line. Egrep is closer to Python syntax. Grep requires escaping all over the place.\n",
      "\n",
      "* less - use `/pattern` to search a document with a regex.\n",
      "\n",
      "* vim/emacs/sublime - regex matching and substitution."
     ]
    },
    {
     "cell_type": "markdown",
     "metadata": {},
     "source": [
      "# Advanced patterns: Back References, (Posi|Nega)tive Look(ahead|behind)\n",
      "\n",
      "Check out the further reading materials for more information.\n",
      "\n",
      "Back references let you refer to capture groups in your expression. This lets you find lines that end with the same word they start with, for example. (`'^(\\w+)\\W.*\\W\\1$'`)\n",
      "\n",
      "Lookahead and lookbehind let you match a pattern as long as they do or don't come before or after another pattern. This lets you match 'Alfred's that are not 'Lee's, for example. (`'Alfred (?!Lee\\b)'`)"
     ]
    },
    {
     "cell_type": "markdown",
     "metadata": {},
     "source": [
      "# Further reading\n",
      "\n",
      "[Regular Expressions in 55 minutes](http://qntm.org/files/re/re.html)\n",
      "\n",
      "[Visual RegEx Tester](https://www.debuggex.com)\n",
      "\n",
      "[PostgreSQL RegExes](http://www.postgresql.org/docs/9.0/static/functions-matching.html)\n",
      "\n",
      "[MySQL RegExes](http://dev.mysql.com/doc/refman/5.1/en/regexp.html)\n",
      "\n",
      "[Regex syntax for various *nix utilities](https://www.gnu.org/software/findutils/manual/html_node/find_html/Regular-Expressions.html#Regular-Expressions)\n",
      "\n",
      "[The difference between grep, egrep, fgrep, and pgrep](http://superuser.com/a/508882)"
     ]
    }
   ],
   "metadata": {}
  }
 ]
}