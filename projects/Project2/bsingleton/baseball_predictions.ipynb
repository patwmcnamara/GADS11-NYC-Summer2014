{
 "metadata": {
  "name": "",
  "signature": "sha256:6d9b88a59cfee1869ca1088a4c284200b6bb6c59cd5a9bc1c58719006970a460"
 },
 "nbformat": 3,
 "nbformat_minor": 0,
 "worksheets": [
  {
   "cells": [
    {
     "cell_type": "code",
     "collapsed": false,
     "input": [
      "import numpy as np\n",
      "import pandas as pd"
     ],
     "language": "python",
     "metadata": {},
     "outputs": [],
     "prompt_number": 7
    },
    {
     "cell_type": "code",
     "collapsed": false,
     "input": [
      "df = pd.read_csv('baseball.csv')\n",
      "df_fielding = pd.read_csv('Fielding.csv')\n",
      "\n",
      "print 'Baseball.csv Shape:', df.shape\n",
      "print 'Fielding.csv Shape:', df_fielding.shape"
     ],
     "language": "python",
     "metadata": {},
     "outputs": [
      {
       "output_type": "stream",
       "stream": "stdout",
       "text": [
        "Baseball.csv Shape: (22085, 59)\n",
        "Fielding.csv Shape: (166991, 18)\n"
       ]
      }
     ],
     "prompt_number": 8
    },
    {
     "cell_type": "code",
     "collapsed": false,
     "input": [
      "df['ID'] = df['playerID'] + '_' + df['yearID'].map(str)\n",
      "df_fielding['ID'] = df_fielding['playerID'] + '_' + df_fielding['yearID'].map(str)\n",
      "\n",
      "df = pd.merge(df, df_fielding, how='left', suffixes=('_x', '_y'))"
     ],
     "language": "python",
     "metadata": {},
     "outputs": [],
     "prompt_number": 9
    },
    {
     "cell_type": "code",
     "collapsed": false,
     "input": [
      "positions = pd.get_dummies(df['POS'])\n",
      "df = df.join(positions)"
     ],
     "language": "python",
     "metadata": {},
     "outputs": [],
     "prompt_number": 10
    },
    {
     "cell_type": "code",
     "collapsed": false,
     "input": [
      "def hall_of_famer(x):\n",
      "    if x == np.nan:\n",
      "        return 0\n",
      "    else:\n",
      "        return 1\n",
      "    \n",
      "df['hall_of_famer'] = df['hofID'].apply(hall_of_famer)"
     ],
     "language": "python",
     "metadata": {},
     "outputs": [],
     "prompt_number": 11
    },
    {
     "cell_type": "code",
     "collapsed": false,
     "input": [
      "def righty(x):\n",
      "    if x == 'R':\n",
      "        return 1\n",
      "    else:\n",
      "        return 0\n",
      "\n",
      "def lefty(x):\n",
      "    if x == 'L':\n",
      "        return 1\n",
      "    else:\n",
      "        return 0\n",
      "    \n",
      "df['righty_batter'] = df['bats'].apply(lambda x: righty(x))\n",
      "df['lefty_batter'] = df['bats'].apply(lambda x: lefty(x))\n",
      "df['righty_thrower'] = df['throws'].apply(lambda x: righty(x))\n",
      "df['lefty_thrower'] = df['throws'].apply(lambda x: lefty(x))"
     ],
     "language": "python",
     "metadata": {},
     "outputs": [],
     "prompt_number": 12
    },
    {
     "cell_type": "code",
     "collapsed": false,
     "input": [
      "def am_league(x):\n",
      "    if x == 'AL':\n",
      "        return 1\n",
      "    else:\n",
      "        return 0\n",
      "    \n",
      "def nl_league(x):\n",
      "    if x == 'NL':\n",
      "        return 1\n",
      "    else:\n",
      "        return 0   \n",
      "    \n",
      "df['american_league_team'] = df['lgID'].apply(lambda x: am_league(x))\n",
      "df['national_league_team'] = df['lgID'].apply(lambda x: nl_league(x))"
     ],
     "language": "python",
     "metadata": {},
     "outputs": [],
     "prompt_number": 13
    },
    {
     "cell_type": "code",
     "collapsed": false,
     "input": [
      "df['games_batting_percent'] = df['G_batting'] / df['G']"
     ],
     "language": "python",
     "metadata": {},
     "outputs": [],
     "prompt_number": 14
    },
    {
     "cell_type": "code",
     "collapsed": false,
     "input": [
      "df['age'] = df['yearID'] - df['birthYear']"
     ],
     "language": "python",
     "metadata": {},
     "outputs": [],
     "prompt_number": 15
    },
    {
     "cell_type": "code",
     "collapsed": false,
     "input": [
      "df['batting_average'] = df['H']/df['AB']"
     ],
     "language": "python",
     "metadata": {},
     "outputs": [],
     "prompt_number": 16
    },
    {
     "cell_type": "code",
     "collapsed": false,
     "input": [
      "def rich_team(team_ID):    \n",
      "    if team_ID in ['NYA', 'BOS', 'LAN', 'PHI', 'DET']:\n",
      "        return 1\n",
      "    else:\n",
      "        return 0\n",
      " \n",
      "def poor_team(team_ID):    \n",
      "    if team_ID in ['HOU', 'MIA', 'TBA', 'OAK', 'SDN']:\n",
      "        return 1\n",
      "    else:\n",
      "        return 0\n",
      "    \n",
      "df['is_rich_team'] = df['teamID'].apply(lambda x: rich_team(x))\n",
      "df['is_poor_team'] = df['teamID'].apply(lambda x: poor_team(x))"
     ],
     "language": "python",
     "metadata": {},
     "outputs": [],
     "prompt_number": 17
    },
    {
     "cell_type": "code",
     "collapsed": false,
     "input": [
      "df['has_made_a_million'] = np.nan\n",
      "\n",
      "for idx, row in df.iterrows():\n",
      "\n",
      "    playerID = row.loc['playerID']\n",
      "    \n",
      "    try:\n",
      "        \n",
      "        year_first_made_million = df[(df['playerID']==playerID) & \n",
      "                                     (df['salary']>=1000000)].sort('yearID').iloc[0]['yearID']\n",
      "\n",
      "        df['has_made_a_million'][(df['playerID']==playerID) & \n",
      "                                 (df['yearID']>year_first_made_million)] = 1\n",
      "\n",
      "    except IndexError:\n",
      "            pass"
     ],
     "language": "python",
     "metadata": {},
     "outputs": [],
     "prompt_number": 60
    },
    {
     "cell_type": "code",
     "collapsed": false,
     "input": [
      "df['has_made_a_million'] = df['has_made_a_million'].fillna(0)"
     ],
     "language": "python",
     "metadata": {},
     "outputs": [],
     "prompt_number": 61
    },
    {
     "cell_type": "code",
     "collapsed": false,
     "input": [
      "countries = pd.get_dummies(df.birthCountry)\n",
      "df = df.join(countries)"
     ],
     "language": "python",
     "metadata": {},
     "outputs": [],
     "prompt_number": 21
    },
    {
     "cell_type": "code",
     "collapsed": false,
     "input": [
      "teams = pd.get_dummies(df.teamID)\n",
      "df = df.join(teams)"
     ],
     "language": "python",
     "metadata": {},
     "outputs": [],
     "prompt_number": 24
    },
    {
     "cell_type": "code",
     "collapsed": false,
     "input": [
      "columns = [\n",
      " 'birthYear',\n",
      " 'weight',\n",
      " 'height',\n",
      " 'yearID',\n",
      " 'G',\n",
      " 'G_batting',\n",
      " 'AB',\n",
      " 'R',\n",
      " 'H',\n",
      " 'X2B',\n",
      " 'X3B',\n",
      " 'HR',\n",
      " 'RBI',\n",
      " 'SB',\n",
      " 'CS',\n",
      " 'BB',\n",
      " 'SO',\n",
      " 'IBB',\n",
      " 'HBP',\n",
      " 'SH',\n",
      " 'SF',\n",
      " 'GIDP',\n",
      " 'G_old',\n",
      " 'GS',\n",
      " 'InnOuts',\n",
      " 'PO',\n",
      " 'A',\n",
      " 'E',\n",
      " 'DP',\n",
      " 'PB',\n",
      " 'WP',\n",
      " 'ZR',\n",
      " '1B',\n",
      " '3B',\n",
      " 'C',\n",
      " 'CF',\n",
      " 'DH',\n",
      " 'OF',\n",
      " 'P',\n",
      " 'SS',\n",
      " 'hall_of_famer',\n",
      " 'righty_batter',\n",
      " 'lefty_batter',\n",
      " 'righty_thrower',\n",
      " 'lefty_thrower',\n",
      " 'american_league_team',\n",
      " 'national_league_team',\n",
      " 'games_batting_percent',\n",
      " 'age',\n",
      " 'batting_average',\n",
      " 'is_rich_team',\n",
      " 'is_poor_team',\n",
      " 'Afghanistan',\n",
      " 'Aruba',\n",
      " 'Australia',\n",
      " 'Belgium',\n",
      " 'British Honduras',\n",
      " 'CAN',\n",
      " 'Canada',\n",
      " 'Colombia',\n",
      " 'Cuba',\n",
      " 'Curacao',\n",
      " 'D.R.',\n",
      " 'England',\n",
      " 'France',\n",
      " 'Honduras',\n",
      " 'Indonesia',\n",
      " 'Italy',\n",
      " 'Jamaica',\n",
      " 'Japan',\n",
      " 'Mexico',\n",
      " 'Netherlands',\n",
      " 'Netherlands Antilles',\n",
      " 'Nicaragua',\n",
      " 'P.R.',\n",
      " 'Panama',\n",
      " 'Philippines',\n",
      " 'Scotland',\n",
      " 'Singapore',\n",
      " 'South Korea',\n",
      " 'South Vietnam',\n",
      " 'Spain',\n",
      " 'Taiwan',\n",
      " 'USA',\n",
      " 'V.I.',\n",
      " 'Venezuela',\n",
      " 'W.Germany',\n",
      "'ANA',\n",
      " 'ARI',\n",
      " 'ATL',\n",
      " 'BAL',\n",
      " 'BOS',\n",
      " 'CAL',\n",
      " 'CHA',\n",
      " 'CHN',\n",
      " 'CIN',\n",
      " 'CLE',\n",
      " 'COL',\n",
      " 'DET',\n",
      " 'FLO',\n",
      " 'HOU',\n",
      " 'KCA',\n",
      " 'LAA',\n",
      " 'LAN',\n",
      " 'MIA',\n",
      " 'MIL',\n",
      " 'MIN',\n",
      " 'ML4',\n",
      " 'MON',\n",
      " 'NYA',\n",
      " 'NYN',\n",
      " 'OAK',\n",
      " 'PHI',\n",
      " 'PIT',\n",
      " 'SDN',\n",
      " 'SEA',\n",
      " 'SFN',\n",
      " 'SLN',\n",
      " 'TBA',\n",
      " 'TEX',\n",
      " 'TOR',\n",
      " 'WAS']"
     ],
     "language": "python",
     "metadata": {},
     "outputs": [],
     "prompt_number": 40
    },
    {
     "cell_type": "code",
     "collapsed": false,
     "input": [
      "from sklearn.linear_model import LinearRegression, Ridge\n",
      "from sklearn.feature_selection import SelectKBest, f_regression\n",
      "from sklearn.metrics import mean_squared_error, mean_absolute_error, explained_variance_score, accuracy_score, r2_score\n",
      "from sklearn.cross_validation import train_test_split\n",
      "from sklearn.ensemble import RandomForestRegressor, ExtraTreesRegressor\n",
      "from sklearn.utils import check_arrays\n",
      "import scipy.stats as stats\n",
      "import matplotlib.pyplot as plt"
     ],
     "language": "python",
     "metadata": {},
     "outputs": [],
     "prompt_number": 42
    },
    {
     "cell_type": "code",
     "collapsed": false,
     "input": [
      "df[columns] = df[columns].fillna(method='ffill')"
     ],
     "language": "python",
     "metadata": {},
     "outputs": [],
     "prompt_number": 43
    },
    {
     "cell_type": "code",
     "collapsed": false,
     "input": [
      "df = df.fillna(df.mean())"
     ],
     "language": "python",
     "metadata": {},
     "outputs": [],
     "prompt_number": 44
    },
    {
     "cell_type": "code",
     "collapsed": false,
     "input": [
      "X = df[columns]\n",
      "Y = df['salary']\n",
      "\n",
      "X_train, X_test, Y_train, Y_test = train_test_split(X,Y,test_size=0.25)\n",
      "\n",
      "rfr = ExtraTreesRegressor(n_estimators=20)\n",
      "\n",
      "rfrclf = rfr.fit(X_train, Y_train)\n",
      "\n",
      "print\n",
      "\n",
      "y_scores = rfrclf.predict(X_test)\n",
      "\n",
      "def mean_absolute_percentage_error(y_true, y_pred): \n",
      "\n",
      "    y_true, y_pred = check_arrays(y_true, y_pred)\n",
      "\n",
      "    return np.mean(np.abs((y_true - y_pred) / y_true)) * 100\n",
      "\n",
      "print '--------------------------------------------'\n",
      "print\n",
      "print 'R-squared:', round(r2_score(Y_test, y_scores), 4)\n",
      "print \n",
      "print 'MSE:      ', round(mean_squared_error(y_scores, Y_test), 4)\n",
      "print 'RMSE:     ', round(np.sqrt(mean_squared_error(y_scores, Y_test)), 4)\n",
      "print 'MAE:      ', round(mean_absolute_error(y_scores, Y_test), 4)\n",
      "print 'MAPE:     ', mean_absolute_percentage_error(Y_test, y_scores)\n",
      "print\n",
      "print\n",
      "print '--------------------------------------------'\n",
      "print 'STANDARD DEVIATION: ', round(np.std(Y), 4)\n",
      "print 'STANDARD ERROR:     ', round(stats.sem(Y), 4)\n",
      "print 'MEAN (rounded):     ', round(np.round_(np.mean(Y), decimals=0), 4)\n",
      "print 'MEAN ACCURACY SCORE:', round(accuracy_score(Y_test, np.repeat(np.round_(np.mean(Y), decimals=0), len(Y_test))), 4)\n",
      "print 'MEAN MAE:           ', round(mean_absolute_error(np.repeat(np.round_(np.mean(Y), decimals=0), len(Y_test)), Y_test), 4)\n",
      "print 'NORMAL TEST:        ', stats.normaltest(Y)"
     ],
     "language": "python",
     "metadata": {},
     "outputs": [
      {
       "output_type": "stream",
       "stream": "stdout",
       "text": [
        "\n",
        "--------------------------------------------\n",
        "\n",
        "R-squared: 0.6449\n",
        "\n",
        "MSE:       3.06603534491e+12\n",
        "RMSE:      1751009.8072\n",
        "MAE:       976543.245\n",
        "MAPE:      129.390372924\n",
        "\n",
        "\n",
        "--------------------------------------------\n",
        "STANDARD DEVIATION:  2987341.3893\n",
        "STANDARD ERROR:      20101.8558\n",
        "MEAN (rounded):      1821552.0\n",
        "MEAN ACCURACY SCORE: 0.0\n",
        "MEAN MAE:            1913739.5326\n",
        "NORMAL TEST:         "
       ]
      },
      {
       "output_type": "stream",
       "stream": "stdout",
       "text": [
        "(14848.502310803338, 0.0)\n"
       ]
      }
     ],
     "prompt_number": 45
    },
    {
     "cell_type": "code",
     "collapsed": false,
     "input": [],
     "language": "python",
     "metadata": {},
     "outputs": []
    }
   ],
   "metadata": {}
  }
 ]
}