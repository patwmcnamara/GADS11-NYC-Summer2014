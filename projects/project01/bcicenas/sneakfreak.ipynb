{
 "metadata": {
  "name": "",
  "signature": "sha256:838fb060c6c01323dccc14cabaaa3b07f3addf2401385a7836f245e2ab192401"
 },
 "nbformat": 3,
 "nbformat_minor": 0,
 "worksheets": [
  {
   "cells": [
    {
     "cell_type": "code",
     "collapsed": false,
     "input": [
      "%matplotlib inline\n",
      "\n",
      "import matplotlib.pyplot as plt\n",
      "import pandas as pd\n",
      "import numpy as np"
     ],
     "language": "python",
     "metadata": {},
     "outputs": [],
     "prompt_number": 2
    },
    {
     "cell_type": "code",
     "collapsed": false,
     "input": [
      "names = ['gender', 'colour', 'rdate', 'release', 'model', 'brand' ]\n",
      "data = pd.read_csv('sneakers_lower.csv', delimiter=',', names=names).dropna()\n",
      "print(data.shape[0])\n",
      "data.head() "
     ],
     "language": "python",
     "metadata": {},
     "outputs": [
      {
       "output_type": "stream",
       "stream": "stdout",
       "text": [
        "7437\n"
       ]
      },
      {
       "html": [
        "<div style=\"max-height:1000px;max-width:1500px;overflow:auto;\">\n",
        "<table border=\"1\" class=\"dataframe\">\n",
        "  <thead>\n",
        "    <tr style=\"text-align: right;\">\n",
        "      <th></th>\n",
        "      <th>gender</th>\n",
        "      <th>colour</th>\n",
        "      <th>rdate</th>\n",
        "      <th>release</th>\n",
        "      <th>model</th>\n",
        "      <th>brand</th>\n",
        "    </tr>\n",
        "  </thead>\n",
        "  <tbody>\n",
        "    <tr>\n",
        "      <th>2</th>\n",
        "      <td> mens</td>\n",
        "      <td>         white/blue</td>\n",
        "      <td> 1970</td>\n",
        "      <td>               blue</td>\n",
        "      <td>   volley pro</td>\n",
        "      <td>    puma</td>\n",
        "    </tr>\n",
        "    <tr>\n",
        "      <th>3</th>\n",
        "      <td> mens</td>\n",
        "      <td> indigo/blue/silver</td>\n",
        "      <td> 1970</td>\n",
        "      <td> indigo/blue/silver</td>\n",
        "      <td>       runner</td>\n",
        "      <td> patrick</td>\n",
        "    </tr>\n",
        "    <tr>\n",
        "      <th>4</th>\n",
        "      <td> mens</td>\n",
        "      <td>         blue/white</td>\n",
        "      <td> 1972</td>\n",
        "      <td>               blue</td>\n",
        "      <td>     marathon</td>\n",
        "      <td>    nike</td>\n",
        "    </tr>\n",
        "    <tr>\n",
        "      <th>5</th>\n",
        "      <td> mens</td>\n",
        "      <td>     red/blue/white</td>\n",
        "      <td> 1973</td>\n",
        "      <td>               blue</td>\n",
        "      <td> pre montreal</td>\n",
        "      <td>    nike</td>\n",
        "    </tr>\n",
        "    <tr>\n",
        "      <th>6</th>\n",
        "      <td> mens</td>\n",
        "      <td>        black check</td>\n",
        "      <td> 1973</td>\n",
        "      <td> black checkerboard</td>\n",
        "      <td>      slip/on</td>\n",
        "      <td>    vans</td>\n",
        "    </tr>\n",
        "  </tbody>\n",
        "</table>\n",
        "</div>"
       ],
       "metadata": {},
       "output_type": "pyout",
       "prompt_number": 3,
       "text": [
        "  gender              colour  rdate             release         model    brand\n",
        "2   mens          white/blue   1970                blue    volley pro     puma\n",
        "3   mens  indigo/blue/silver   1970  indigo/blue/silver        runner  patrick\n",
        "4   mens          blue/white   1972                blue      marathon     nike\n",
        "5   mens      red/blue/white   1973                blue  pre montreal     nike\n",
        "6   mens         black check   1973  black checkerboard       slip/on     vans"
       ]
      }
     ],
     "prompt_number": 3
    },
    {
     "cell_type": "code",
     "collapsed": false,
     "input": [
      "colorset = set()\n",
      "for c in data.colour:\n",
      "    colorset.update(g for g in c.split('/'))\n",
      "len(colorset)"
     ],
     "language": "python",
     "metadata": {},
     "outputs": [
      {
       "metadata": {},
       "output_type": "pyout",
       "prompt_number": 4,
       "text": [
        "2193"
       ]
      }
     ],
     "prompt_number": 4
    },
    {
     "cell_type": "code",
     "collapsed": false,
     "input": [
      "data[['rdate']].describe()"
     ],
     "language": "python",
     "metadata": {},
     "outputs": [
      {
       "html": [
        "<div style=\"max-height:1000px;max-width:1500px;overflow:auto;\">\n",
        "<table border=\"1\" class=\"dataframe\">\n",
        "  <thead>\n",
        "    <tr style=\"text-align: right;\">\n",
        "      <th></th>\n",
        "      <th>rdate</th>\n",
        "    </tr>\n",
        "  </thead>\n",
        "  <tbody>\n",
        "    <tr>\n",
        "      <th>count</th>\n",
        "      <td> 7437.000000</td>\n",
        "    </tr>\n",
        "    <tr>\n",
        "      <th>mean</th>\n",
        "      <td> 1834.516875</td>\n",
        "    </tr>\n",
        "    <tr>\n",
        "      <th>std</th>\n",
        "      <td>  548.943423</td>\n",
        "    </tr>\n",
        "    <tr>\n",
        "      <th>min</th>\n",
        "      <td>    0.000000</td>\n",
        "    </tr>\n",
        "    <tr>\n",
        "      <th>25%</th>\n",
        "      <td> 1992.000000</td>\n",
        "    </tr>\n",
        "    <tr>\n",
        "      <th>50%</th>\n",
        "      <td> 1995.000000</td>\n",
        "    </tr>\n",
        "    <tr>\n",
        "      <th>75%</th>\n",
        "      <td> 2007.000000</td>\n",
        "    </tr>\n",
        "    <tr>\n",
        "      <th>max</th>\n",
        "      <td> 2012.000000</td>\n",
        "    </tr>\n",
        "  </tbody>\n",
        "</table>\n",
        "</div>"
       ],
       "metadata": {},
       "output_type": "pyout",
       "prompt_number": 7,
       "text": [
        "             rdate\n",
        "count  7437.000000\n",
        "mean   1834.516875\n",
        "std     548.943423\n",
        "min       0.000000\n",
        "25%    1992.000000\n",
        "50%    1995.000000\n",
        "75%    2007.000000\n",
        "max    2012.000000"
       ]
      }
     ],
     "prompt_number": 7
    },
    {
     "cell_type": "code",
     "collapsed": false,
     "input": [
      "print len(data[data.rdate == 0])\n",
      "data.rdate[data.rdate==0] = np.nan"
     ],
     "language": "python",
     "metadata": {},
     "outputs": [
      {
       "output_type": "stream",
       "stream": "stdout",
       "text": [
        "611\n"
       ]
      }
     ],
     "prompt_number": 8
    },
    {
     "cell_type": "code",
     "collapsed": false,
     "input": [
      "data[['rdate']].describe()"
     ],
     "language": "python",
     "metadata": {},
     "outputs": [
      {
       "html": [
        "<div style=\"max-height:1000px;max-width:1500px;overflow:auto;\">\n",
        "<table border=\"1\" class=\"dataframe\">\n",
        "  <thead>\n",
        "    <tr style=\"text-align: right;\">\n",
        "      <th></th>\n",
        "      <th>rdate</th>\n",
        "    </tr>\n",
        "  </thead>\n",
        "  <tbody>\n",
        "    <tr>\n",
        "      <th>count</th>\n",
        "      <td> 6826.000000</td>\n",
        "    </tr>\n",
        "    <tr>\n",
        "      <th>mean</th>\n",
        "      <td> 1998.725754</td>\n",
        "    </tr>\n",
        "    <tr>\n",
        "      <th>std</th>\n",
        "      <td>    7.699414</td>\n",
        "    </tr>\n",
        "    <tr>\n",
        "      <th>min</th>\n",
        "      <td> 1970.000000</td>\n",
        "    </tr>\n",
        "    <tr>\n",
        "      <th>25%</th>\n",
        "      <td> 1993.000000</td>\n",
        "    </tr>\n",
        "    <tr>\n",
        "      <th>50%</th>\n",
        "      <td> 1996.000000</td>\n",
        "    </tr>\n",
        "    <tr>\n",
        "      <th>75%</th>\n",
        "      <td> 2007.000000</td>\n",
        "    </tr>\n",
        "    <tr>\n",
        "      <th>max</th>\n",
        "      <td> 2012.000000</td>\n",
        "    </tr>\n",
        "  </tbody>\n",
        "</table>\n",
        "</div>"
       ],
       "metadata": {},
       "output_type": "pyout",
       "prompt_number": 16,
       "text": [
        "             rdate\n",
        "count  6826.000000\n",
        "mean   1998.725754\n",
        "std       7.699414\n",
        "min    1970.000000\n",
        "25%    1993.000000\n",
        "50%    1996.000000\n",
        "75%    2007.000000\n",
        "max    2012.000000"
       ]
      }
     ],
     "prompt_number": 16
    },
    {
     "cell_type": "code",
     "collapsed": false,
     "input": [
      "len(data.rdate.dropna())"
     ],
     "language": "python",
     "metadata": {},
     "outputs": [
      {
       "metadata": {},
       "output_type": "pyout",
       "prompt_number": 21,
       "text": [
        "6826"
       ]
      }
     ],
     "prompt_number": 21
    },
    {
     "cell_type": "code",
     "collapsed": false,
     "input": [
      "plt.figure()\n",
      "data.rdate.hist(color='#eeeeee', alpha=0.5, bins=50, figsize=(30,20))\n",
      "ax1.set_title('sneaker releases by year')\n",
      "ax1.set_xlabel(\"release year\")"
     ],
     "language": "python",
     "metadata": {},
     "outputs": [
      {
       "metadata": {},
       "output_type": "pyout",
       "prompt_number": 51,
       "text": [
        "<matplotlib.text.Text at 0x7f7d5b9ceb50>"
       ]
      },
      {
       "metadata": {},
       "output_type": "display_data",
       "png": "[encoded data removed]",
       "text": [
        "<matplotlib.figure.Figure at 0x7f7d5bf5db90>"
       ]
      }
     ],
     "prompt_number": 51
    },
    {
     "cell_type": "code",
     "collapsed": false,
     "input": [],
     "language": "python",
     "metadata": {},
     "outputs": []
    }
   ],
   "metadata": {}
  }
 ]
}