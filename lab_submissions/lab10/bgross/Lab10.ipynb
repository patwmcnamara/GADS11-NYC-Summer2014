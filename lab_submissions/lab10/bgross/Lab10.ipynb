{
 "metadata": {
  "name": "",
  "signature": "sha256:9d5cc7e70b8e810f5ea40dcce8fdcf4194eb64ea1ba9aae2423ec76970c4c55f"
 },
 "nbformat": 3,
 "nbformat_minor": 0,
 "worksheets": [
  {
   "cells": [
    {
     "cell_type": "code",
     "collapsed": false,
     "input": [
      "import lab10\n",
      "import pandas\n",
      "\n",
      "#Very surprised by similar %timeits... but why write the extra 20 lines?\n",
      "%timeit lab10.open_titanic('./titanic.csv')\n",
      "%timeit pandas.DataFrame.from_csv('./titanic.csv', index_col = None)"
     ],
     "language": "python",
     "metadata": {},
     "outputs": [
      {
       "output_type": "stream",
       "stream": "stdout",
       "text": [
        "1000 loops, best of 3: 1.28 ms per loop\n",
        "1000 loops, best of 3: 1.82 ms per loop"
       ]
      },
      {
       "output_type": "stream",
       "stream": "stdout",
       "text": [
        "\n"
       ]
      }
     ],
     "prompt_number": 5
    },
    {
     "cell_type": "code",
     "collapsed": false,
     "input": [
      "#A gentle suggestion for simplifying the data loading & cleaning...\n",
      "data = pandas.DataFrame.from_csv('./titanic.csv', index_col = None)\n",
      "\n",
      "#define our X variates, and make a copy instead of operating on the data itself\n",
      "xs = data[['pclass', 'age', 'sex']].copy()\n",
      "\n",
      "#encode sex into binary classification\n",
      "from sklearn.preprocessing import LabelEncoder\n",
      "\n",
      "le = LabelEncoder()\n",
      "xs['sex'] = le.fit_transform(xs['sex'])\n",
      "\n",
      "#pandas.get_dummies() instead of OneHotEncoder() maybe?\n",
      "pclass = pandas.get_dummies(xs['pclass'])\n",
      "pclass.rename( columns = {1: '1st_class', 2: '2nd_class', 3: '3rd_class'}, inplace = True)\n",
      "xs = xs.join(pclass)\n",
      "xs = xs[['age', 'sex', '1st_class', '2nd_class', '3rd_class']].copy()"
     ],
     "language": "python",
     "metadata": {},
     "outputs": [],
     "prompt_number": 7
    }
   ],
   "metadata": {}
  }
 ]
}