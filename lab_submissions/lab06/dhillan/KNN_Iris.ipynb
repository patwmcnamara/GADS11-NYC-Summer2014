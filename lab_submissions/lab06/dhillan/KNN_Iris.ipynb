{
 "metadata": {
  "name": "",
  "signature": "sha256:19a23e77118c34be3191b2cd65d9f3ce1e471018c617df35b6a0b1559671f0fb"
 },
 "nbformat": 3,
 "nbformat_minor": 0,
 "worksheets": [
  {
   "cells": [
    {
     "cell_type": "code",
     "collapsed": false,
     "input": [
      "import pandas as pd\n",
      "import numpy as np\n",
      "import pylab as pl\n",
      "from sklearn.datasets import load_iris\n"
     ],
     "language": "python",
     "metadata": {},
     "outputs": [],
     "prompt_number": 1
    },
    {
     "cell_type": "code",
     "collapsed": false,
     "input": [
      "iris = load_iris()\n",
      "data = pd.DataFrame(iris.data, columns=iris.feature_names)\n",
      "data['species'] = iris.target\n"
     ],
     "language": "python",
     "metadata": {},
     "outputs": [],
     "prompt_number": 2
    },
    {
     "cell_type": "code",
     "collapsed": false,
     "input": [
      "from sklearn.svm import SVC\n",
      "from sklearn.neighbors import KNeighborsClassifier\n"
     ],
     "language": "python",
     "metadata": {},
     "outputs": [],
     "prompt_number": 14
    },
    {
     "cell_type": "code",
     "collapsed": false,
     "input": [
      "%matplotlib inline \n",
      "accuracy = []\n",
      "ks = []\n",
      "for k in range(2,150):\n",
      "    neighbors_clf = KNeighborsClassifier(n_neighbors = k)\n",
      "    neighbors_clf.fit(data[iris.feature_names], data.species)\n",
      "    neighbors_clf.predict(iris.data)\n",
      "    pd.crosstab(data['species'], neighbors_clf.predict(data[iris.feature_names]))\n",
      "    from sklearn.metrics import accuracy_score\n",
      "    y_pred = neighbors_clf.predict(iris.data)\n",
      "    y_true = data['species']\n",
      "    accuracy.append(100*accuracy_score(y_true, y_pred))\n",
      "    ks.append(k)\n",
      "\n",
      "pl.plot(ks,accuracy)\n",
      "pl.ylabel('Accuracy')\n",
      "pl.xlabel('K Value')\n",
      "pl.show()\n",
      "\n",
      "#     from sklearn.metrics import confusion_matrix\n",
      "#     cm = confusion_matrix(y_true, y_pred)\n",
      "#     pl.matshow(cm)\n",
      "#     pl.title('Confusion matrix')\n",
      "#     pl.colorbar()\n",
      "#     pl.ylabel('True label')\n",
      "#     pl.xlabel('Predicted label')\n",
      "#     pl.show()"
     ],
     "language": "python",
     "metadata": {},
     "outputs": [
      {
       "metadata": {},
       "output_type": "display_data",
       "png": "[encoded data removed]",
       "text": [
        "<matplotlib.figure.Figure at 0x1093c1610>"
       ]
      }
     ],
     "prompt_number": 40
    },
    {
     "cell_type": "code",
     "collapsed": false,
     "input": [],
     "language": "python",
     "metadata": {},
     "outputs": [],
     "prompt_number": 16
    },
    {
     "cell_type": "code",
     "collapsed": false,
     "input": [],
     "language": "python",
     "metadata": {},
     "outputs": [
      {
       "metadata": {},
       "output_type": "pyout",
       "prompt_number": 17,
       "text": [
        "147"
       ]
      }
     ],
     "prompt_number": 17
    },
    {
     "cell_type": "code",
     "collapsed": false,
     "input": [],
     "language": "python",
     "metadata": {},
     "outputs": [],
     "prompt_number": 18
    },
    {
     "cell_type": "code",
     "collapsed": false,
     "input": [],
     "language": "python",
     "metadata": {},
     "outputs": []
    }
   ],
   "metadata": {}
  }
 ]
}