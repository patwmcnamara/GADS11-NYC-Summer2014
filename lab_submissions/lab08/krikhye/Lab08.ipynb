{
 "metadata": {
  "name": "",
  "signature": "sha256:a4e9e4e0117a85fbe0d20877639c315027bb1111244e185758162f81a654042e"
 },
 "nbformat": 3,
 "nbformat_minor": 0,
 "worksheets": [
  {
   "cells": [
    {
     "cell_type": "markdown",
     "metadata": {},
     "source": [
      "# If you aren't running this from `lab_submissions/lab08/$FLASTNAME` then copy it over and start over."
     ]
    },
    {
     "cell_type": "markdown",
     "metadata": {},
     "source": [
      "# Part 0: Loading all the libraries for lab today"
     ]
    },
    {
     "cell_type": "code",
     "collapsed": false,
     "input": [
      "import pandas as pd\n",
      "import numpy as np\n",
      "from matplotlib import pyplot as plt\n",
      "\n",
      "# note which libraries these classes and functions come from\n",
      "from sklearn.linear_model import LinearRegression\n",
      "from sklearn.feature_selection import f_regression\n",
      "from sklearn.metrics import mean_squared_error, mean_absolute_error\n",
      "\n",
      "%matplotlib inline"
     ],
     "language": "python",
     "metadata": {},
     "outputs": [],
     "prompt_number": 2
    },
    {
     "cell_type": "markdown",
     "metadata": {},
     "source": [
      "# Part 1: Linear Algebra Practice"
     ]
    },
    {
     "cell_type": "code",
     "collapsed": false,
     "input": [
      "# run this cell\n",
      "a = np.random.randint(0, 8, 20).reshape(4, 5)\n",
      "b = np.random.randint(0, 8, 15).reshape(3, 5)\n",
      "print a, a.shape\n",
      "print b, b.shape"
     ],
     "language": "python",
     "metadata": {},
     "outputs": [
      {
       "output_type": "stream",
       "stream": "stdout",
       "text": [
        "[[2 3 6 6 4]\n",
        " [7 1 0 5 1]\n",
        " [5 0 7 7 1]\n",
        " [2 7 5 4 2]] (4, 5)\n",
        "[[4 5 1 6 4]\n",
        " [7 2 4 6 7]\n",
        " [3 6 1 2 3]] (3, 5)\n"
       ]
      }
     ],
     "prompt_number": 2
    },
    {
     "cell_type": "markdown",
     "metadata": {},
     "source": [
      "Can you multiply these together? No\n",
      "\n",
      "If not, how could you manipulate these so they can be multiplied? transpose b\n",
      "\n",
      "What shape would the output have? 4 x 3\n",
      "\n",
      "Try multiplying these using numpy and confirm your guess."
     ]
    },
    {
     "cell_type": "code",
     "collapsed": false,
     "input": [
      "c = np.dot(a, np.transpose(b))\n",
      "print c, c.shape"
     ],
     "language": "python",
     "metadata": {},
     "outputs": [
      {
       "output_type": "stream",
       "stream": "stdout",
       "text": [
        "[[ 81 108  54]\n",
        " [ 67  88  40]\n",
        " [ 73 112  39]\n",
        " [ 80  86  67]] (4, 3)\n"
       ]
      }
     ],
     "prompt_number": 30
    },
    {
     "cell_type": "markdown",
     "metadata": {},
     "source": [
      "Now take the output of this multiplication and find its inverse.\n",
      "\n",
      "J/K, it has to be square. Multiply this matrix by its transpose to get a square matrix, and then find the inverse of that. (There's an ambiguity here, too, in the order. We don't care which order you choose.)"
     ]
    },
    {
     "cell_type": "code",
     "collapsed": false,
     "input": [
      "np.linalg.inv(np.dot(c, np.transpose(c)))"
     ],
     "language": "python",
     "metadata": {},
     "outputs": [
      {
       "metadata": {},
       "output_type": "pyout",
       "prompt_number": 34,
       "text": [
        "array([[  2.26798455e+12,  -8.20742297e+09,  -1.41167675e+12,\n",
        "         -1.00130560e+12],\n",
        "       [ -8.20742297e+09,   2.97011689e+07,   5.10860103e+09,\n",
        "          3.62354259e+09],\n",
        "       [ -1.41167675e+12,   5.10860103e+09,   8.78679377e+11,\n",
        "          6.23249326e+11],\n",
        "       [ -1.00130560e+12,   3.62354259e+09,   6.23249326e+11,\n",
        "          4.42072196e+11]])"
       ]
      }
     ],
     "prompt_number": 34
    },
    {
     "cell_type": "markdown",
     "metadata": {},
     "source": [
      "# Part 2: Least Squares Notes"
     ]
    },
    {
     "cell_type": "markdown",
     "metadata": {},
     "source": [
      "![](http://note.io/1fqixjZ)\n",
      "[source](http://sydney.edu.au/stuserv/documents/maths_learning_centre/matrixmodule8.pdf)\n",
      "\n",
      "Penn State has this [great source](https://onlinecourses.science.psu.edu/stat501/node/59) for easy to understand background on the matrix algebra behind regression.\n",
      "\n",
      "* *Matrix Addition*: Two matrices can be added together only if they have the same number of rows and columns. \n",
      "* _Matrix Multiplication:_ Two matrices can be multiplied together only if the number of columns of the first matrix equals the number of rows of the second matrix. \n",
      "\n",
      "\n",
      "The point of all this is to get that Betas vector:\n",
      "![](http://note.io/1mSiPQl)\n",
      "\n",
      "Those \"1s\" in the first column are just there so we have a value for the intercept.  Without a scalar intercept, we can skip them.\n",
      "\n",
      "####Matrix Multiplication Details:\n",
      "![](http://note.io/1mSlfyz)\n",
      "\n",
      "A good cheatsheet a student made for a final: [link](http://www.scribd.com/doc/46495128/FinalCheetSheet)"
     ]
    },
    {
     "cell_type": "markdown",
     "metadata": {},
     "source": [
      "# Optional: Use numpy to write the linear regression formula\n",
      "Keep in mind that we know x and y, and can assume that \u03b1 (intercept) is 1 in order to solve for the coefficients \u03b2\n",
      "\n",
      "Linear Regression Formula\n",
      "$$y = \\alpha + \\beta x + \\epsilon$$\n",
      "\n",
      "Linear Regression solved for coefficients \n",
      "$$\\beta = \\left({X}^\\top {X}\\right) ^{-1} {X}^\\top y$$\n",
      "\n",
      "In a moment, we'll use [sklearn's implementation](https://github.com/scikit-learn/scikit-learn/blob/master/sklearn/linear_model/base.py#L331). If you're so inclined, try implementing this yourself."
     ]
    },
    {
     "cell_type": "code",
     "collapsed": false,
     "input": [
      "def ols_regression(x_input, y_response):\n",
      "    \"\"\"solution for solving a regression with ordinary least squares.\n",
      "    x_input: an input narray (X)\n",
      "    y_response: a 1d array of expected outputs (y)\n",
      "    X and y must have equal lengths, but x can be multiple dimensions\n",
      "    should return back a 1d array of 1 intercept + all coefficients\n",
      "    \"\"\"\n",
      "    x = np.matrix([[1] * len(x_input), x_input]).T\n",
      "    y = y_response\n",
      "    \n",
      "    xT = np.transpose(x)\n",
      "    xTx = xT * x\n",
      "    xTxI = np.linalg.inv(xTx)\n",
      "    \n",
      "    beta = np.dot(xTxI * xT, y)\n",
      "    \n",
      "    return beta\n",
      "\n",
      "Xvar = np.array([3.385, 0.48, 1.35, 465, 36.33])\n",
      "yvar = np.array([44.5, 15.5, 8.1, 423, 119.5])\n",
      "beta = ols_regression(Xvar, yvar)\n",
      "print beta  # should return: [37.2008960793 0.838218755695]"
     ],
     "language": "python",
     "metadata": {},
     "outputs": [
      {
       "output_type": "stream",
       "stream": "stdout",
       "text": [
        " [[ 37.20089608   0.83821876]]\n"
       ]
      }
     ],
     "prompt_number": 40
    },
    {
     "cell_type": "markdown",
     "metadata": {},
     "source": [
      "Now, write a function that would use this output to predict new data elements (finish the return statement). Are the predicted values close to the true values for the training inputs?"
     ]
    },
    {
     "cell_type": "code",
     "collapsed": false,
     "input": [
      "def ols_predict(x_input, beta):\n",
      "    \"\"\"solution for predicting new data.\n",
      "    x_input: an input narray (X)\n",
      "    y_intercept: a float\n",
      "    coefficients: matrix of coefficients\n",
      "    X must be as wide as the length of beta.\n",
      "    should return back a 1d array of predicted y-values\n",
      "    \"\"\"\n",
      "    ## PUT CODE HERE\n",
      "    return beta.T[0] + beta.T[1:]* x_input\n",
      "\n",
      "ols_predict(Xvar, beta)"
     ],
     "language": "python",
     "metadata": {},
     "outputs": [
      {
       "metadata": {},
       "output_type": "pyout",
       "prompt_number": 17,
       "text": [
        "matrix([[  40.03826657,   37.60324108,   38.3324914 ,  426.97261748,\n",
        "           67.65338347]])"
       ]
      }
     ],
     "prompt_number": 17
    },
    {
     "cell_type": "markdown",
     "metadata": {},
     "source": [
      "##Part 2: Working with sklearn and data\n",
      "Here we'll work with a very simple data set of one input (animal body weight) to find the relationship with a response (animal brain weight)"
     ]
    },
    {
     "cell_type": "code",
     "collapsed": false,
     "input": [
      "# run this cell\n",
      "url = 'https://gist.githubusercontent.com/podopie/5ea0c35ecc556d6cbae3/raw/c56f694bf4e7bbeeec92e24d33a8f49f7da37be8/mammals.csv'\n",
      "animals = pd.read_csv(url)\n",
      "print animals.describe()"
     ],
     "language": "python",
     "metadata": {},
     "outputs": [
      {
       "output_type": "stream",
       "stream": "stdout",
       "text": [
        "              body        brain\n",
        "count    62.000000    62.000000\n",
        "mean    198.789984   283.134194\n",
        "std     899.158011   930.278942\n",
        "min       0.005000     0.140000\n",
        "25%       0.600000     4.250000\n",
        "50%       3.342500    17.250000\n",
        "75%      48.202500   166.000000\n",
        "max    6654.000000  5712.000000\n",
        "\n",
        "[8 rows x 2 columns]\n"
       ]
      }
     ],
     "prompt_number": 18
    },
    {
     "cell_type": "code",
     "collapsed": false,
     "input": [
      "# make some plots to explore the data. I'll get you started\n",
      "\n",
      "fig = plt.figure(figsize=(15, 5))\n",
      "\n",
      "# histogram the body weights\n",
      "ax1 = fig.add_subplot(1, 3, 1)  # one row, three columns, first plot\n",
      "ax1.hist(animals['body'])\n",
      "\n",
      "# histogram the brain weights\n",
      "ax2 = fig.add_subplot(1, 3, 2)  # one row, three columns, first plot\n",
      "ax2.hist(animals['brain'])\n",
      "# fill in code\n",
      "\n",
      "# scatterplot body weight vs. brain weight\n",
      "ax3 = fig.add_subplot(1, 3, 3)\n",
      "ax3.scatter(animals['body'], animals['brain'])\n",
      "\n",
      "# optional: Come back to this later and add some styling to the plots. titles, labels, colors, binsizes, etc.\n",
      "\n",
      "fig.show()"
     ],
     "language": "python",
     "metadata": {},
     "outputs": [
      {
       "metadata": {},
       "output_type": "display_data",
       "png": "[encoded data removed]",
       "text": [
        "<matplotlib.figure.Figure at 0x10c8cf490>"
       ]
      }
     ],
     "prompt_number": 24
    },
    {
     "cell_type": "markdown",
     "metadata": {},
     "source": [
      "Looking at the numerical data here, it's clear we don't have the best data for a linear reqression, which works best with data that are normally distributed.\n",
      "\n",
      "However, we can take advantage of a power law to \"refit\" our data. We can use a log-log relationship because:\n",
      "\n",
      "* All data are positive, and you can't take the log of 0 or negative numbers.\n",
      "* We have a very heavy long tail distribution, so log-log power law might be a good refitting."
     ]
    },
    {
     "cell_type": "markdown",
     "metadata": {},
     "source": [
      "![](http://note.io/1mSr9jd)\n",
      "\n",
      "_Log transformations make positively skewed distributions more normal (around the mean)_\n",
      "\n",
      "_Warning: lots of distributions look like power laws when there isn't much data_"
     ]
    },
    {
     "cell_type": "code",
     "collapsed": false,
     "input": [
      "# copy the data exploration plots you had in the previous code cell, but take the log of the data.\n",
      "\n",
      "fig = plt.figure(figsize=(15, 5))\n",
      "\n",
      "# histogram the log body weights\n",
      "ax1 = fig.add_subplot(1, 3, 1)  # one row, three columns, first plot\n",
      "ax1.hist(np.log(animals['body']))\n",
      "\n",
      "# histogram the log brain weights\n",
      "ax2 = fig.add_subplot(1, 3, 2)  # one row, three columns, first plot\n",
      "ax2.hist(np.log(animals['brain']))\n",
      "\n",
      "ax3 = fig.add_subplot(1, 3, 3)\n",
      "ax3.scatter(np.log(animals['body']), np.log(animals['brain']))\n",
      "\n",
      "# scatterplot log body weight vs. log brain weight\n",
      "\n",
      "# optional: Come back to this later and add some styling to the plots. titles, labels, colors, binsizes, etc.\n",
      "\n",
      "fig.show()"
     ],
     "language": "python",
     "metadata": {},
     "outputs": [
      {
       "metadata": {},
       "output_type": "display_data",
       "png": "[encoded data removed]",
       "text": [
        "<matplotlib.figure.Figure at 0x10ce7a950>"
       ]
      }
     ],
     "prompt_number": 27
    },
    {
     "cell_type": "markdown",
     "metadata": {},
     "source": [
      "Using sklearn, we will implement solutions to both the original feature space as well as the log transformation. You can also check your own implementation from above if you did that portion. [docs](http://scikit-learn.org/stable/modules/generated/sklearn.linear_model.LinearRegression.html)"
     ]
    },
    {
     "cell_type": "code",
     "collapsed": false,
     "input": [
      "# linear fit\n",
      "# instantiate class\n",
      "linear_fit = LinearRegression()\n",
      "# train/fit model to predict brain weights given the body weights\n",
      "linear_fit.fit(animals[['body']].values, animals['brain'].values)\n",
      "# print beta parameters (should be all positive)\n",
      "print \"sklearn intercept and coef (linear):\", linear_fit.intercept_, linear_fit.coef_\n",
      "\n",
      "# log fit\n",
      "# instantiate class\n",
      "\n",
      "log_fit = LinearRegression()\n",
      "log_fit.fit(np.log(animals[['body']].values), np.log(animals['brain'].values))\n",
      "print \"sklearn intercept and coef (log):\", log_fit.intercept_, log_fit.coef_\n",
      "\n",
      "\n",
      "# uncomment if you did the optional portion above\n",
      "print \"My intercept and coefficient:\", ols_regression(animals['body'], animals['brain'])"
     ],
     "language": "python",
     "metadata": {},
     "outputs": [
      {
       "output_type": "stream",
       "stream": "stdout",
       "text": [
        "sklearn intercept and coef (linear): 91.0043962074 [ 0.96649637]\n",
        "sklearn intercept and coef (log): 2.13478867676 [ 0.75168594]\n",
        "My intercept and coefficient: [[ 91.00439621   0.96649637]]\n"
       ]
      }
     ],
     "prompt_number": 41
    },
    {
     "cell_type": "code",
     "collapsed": false,
     "input": [
      "# Plot model against data\n",
      "\n",
      "rawbrains = animals['brain'].values\n",
      "rawbods = animals[['body']].values\n",
      "\n",
      "# what does the model predict the body weights to be for the brain weights in rawbods\n",
      "predictrawbrains = linear_fit.predict(rawbods)\n",
      "\n",
      "# scatter plot the raw data\n",
      "plt.scatter(rawbods,rawbrains)\n",
      "# plot the predicted brain weights against the raw body weights\n",
      "plt.plot(rawbods,predictrawbrains)\n",
      "# labels\n",
      "plt.ylabel('Brain Size')\n",
      "plt.xlabel('Body Weight')\n",
      "plt.title('Body Weight vs. Brains')\n",
      "plt.show()"
     ],
     "language": "python",
     "metadata": {},
     "outputs": [
      {
       "metadata": {},
       "output_type": "display_data",
       "png": "[encoded data removed]",
       "text": [
        "<matplotlib.figure.Figure at 0x10b3b5f90>"
       ]
      }
     ],
     "prompt_number": 43
    },
    {
     "cell_type": "code",
     "collapsed": false,
     "input": [
      "# repeat the previous cell with the log data\n",
      "\n",
      "# Plot model against data\n",
      "\n",
      "rawbrains = np.log(animals['brain'].values)\n",
      "rawbods = np.log(animals[['body']].values)\n",
      "\n",
      "# what does the model predict the body weights to be for the brain weights in rawbods\n",
      "predictrawbrains = log_fit.predict(rawbods)\n",
      "\n",
      "# scatter plot the raw data\n",
      "plt.scatter(rawbods,rawbrains)\n",
      "# plot the predicted brain weights against the raw body weights\n",
      "plt.plot(rawbods,predictrawbrains)\n",
      "# labels\n",
      "plt.ylabel('Brain Size')\n",
      "plt.xlabel('Body Weight')\n",
      "plt.title('Body Weight vs. Brains')\n",
      "plt.show()"
     ],
     "language": "python",
     "metadata": {},
     "outputs": [
      {
       "metadata": {},
       "output_type": "display_data",
       "png": "[encoded data removed]",
       "text": [
        "<matplotlib.figure.Figure at 0x10b5a1750>"
       ]
      }
     ],
     "prompt_number": 45
    },
    {
     "cell_type": "markdown",
     "metadata": {},
     "source": [
      "##Part 3: Scoring the performance of a regression\n",
      "sklearn has built in functionality to score the performance of our regression, but there are multiple ways to dig further into the performance."
     ]
    },
    {
     "cell_type": "markdown",
     "metadata": {},
     "source": [
      "####R-squared (Score)\n",
      "R squared is a value of performance between 0 and 1. You can think 1 is a \"perfect fit.\" It's the proportion of the variance in the data that is accounted by the model.\n",
      "\n",
      "Extra reading: <a href=\"http://blog.minitab.com/blog/adventures-in-statistics/regression-analysis-how-do-i-interpret-r-squared-and-assess-the-goodness-of-fit\">Understanding R-Sqared and Goodness of fit</a>"
     ]
    },
    {
     "cell_type": "code",
     "collapsed": false,
     "input": [
      "print \"Linear R-squared\", round(linear_fit.score(animals[['body']], animals['brain']), 4)\n",
      "print \"Log R-squared\", round(log_fit.score(np.log(animals[['body']]), np.log(animals['brain'])), 4)"
     ],
     "language": "python",
     "metadata": {},
     "outputs": [
      {
       "output_type": "stream",
       "stream": "stdout",
       "text": [
        "Linear R-squared 0.8727\n",
        "Log R-squared 0.9208\n"
       ]
      }
     ],
     "prompt_number": 48
    },
    {
     "cell_type": "markdown",
     "metadata": {},
     "source": [
      "#### P-values of individual features\n",
      "\n",
      "p-values provide an understanding of *significance* to a feature. In best practices, we'd usually find p-values of features first to determine what features are best to use in a regression.\n",
      "\n",
      "sklearn's [f_regression](http://scikit-learn.org/stable/modules/generated/sklearn.feature_selection.f_regression.html) returns back values from an F-Test and the feature p-values, where the F-Test tests for variance, and p-values shows the probability of an event occuring to change. In this case, a low p-value (and high F-statistic) is best. In bio sciences, they generally only accept `p < 0.05`, but for your own work, you will have to determine what is best for you."
     ]
    },
    {
     "cell_type": "code",
     "collapsed": false,
     "input": [
      "# F scores of raw data\n",
      "lin_f, lin_p = f_regression(animals[['body']], animals['brain'])\n",
      "# F scores of log data\n",
      "log_f, log_p = f_regression( np.log(animals[['body']]), np.log(animals['brain']))\n",
      "print 'LINEAR F-Test Values:', lin_f[0]\n",
      "print 'LINEAR p-values:     ', lin_p[0]\n",
      "print 'LOG    F-Test Values:', log_f[0]\n",
      "print 'LOG    p-values:     ', log_p[0]"
     ],
     "language": "python",
     "metadata": {},
     "outputs": [
      {
       "output_type": "stream",
       "stream": "stdout",
       "text": [
        "LINEAR F-Test Values: 411.187231801\n",
        "LINEAR p-values:      1.54293494467e-28\n",
        "LOG    F-Test Values: 697.420036059\n",
        "LOG    p-values:      9.83579224283e-35\n"
       ]
      }
     ],
     "prompt_number": 51
    },
    {
     "cell_type": "markdown",
     "metadata": {},
     "source": [
      "#### Mean Squared Error (and mean absolute error)\n",
      "\n",
      "Both mean squared error (MSE) and mean absolute error (MAE) help us understand the average error by distance between our predicted values and our actual values. While both are relatively simple to calculate, sklearn also includes functions for this.\n",
      "\n",
      "While MAE provides a general context in error, MSE can help evaluate strength of outliers in the model.\n"
     ]
    },
    {
     "cell_type": "code",
     "collapsed": false,
     "input": [
      "# run this cell\n",
      "linear_prediction = linear_fit.predict(animals[['body']].values)\n",
      "log_prediction = log_fit.predict(np.log(animals[['body']].values))\n",
      "\n",
      "# pay attention to the arguments and be sure you understand why they are correct\n",
      "print 'LINEAR  MSE:', mean_squared_error(linear_prediction, animals[['body']].values)\n",
      "print 'LINEAR RMSE:', np.sqrt(mean_squared_error(linear_prediction, animals[['body']].values))\n",
      "print 'LINEAR  MAE:', mean_absolute_error(linear_prediction, animals[['body']].values)\n",
      "print\n",
      "print 'LOG     MSE:', mean_squared_error(log_prediction, np.log(animals[['body']].values))\n",
      "print 'LOG    RMSE:', np.sqrt(mean_squared_error(log_prediction, np.log(animals[['body']].values)))\n",
      "print 'LOG     MAE:', mean_absolute_error(log_prediction, np.log(animals[['body']].values))\n"
     ],
     "language": "python",
     "metadata": {},
     "outputs": [
      {
       "output_type": "stream",
       "stream": "stdout",
       "text": [
        "LINEAR  MSE: 8006.82750277\n",
        "LINEAR RMSE: 89.480877861\n",
        "LINEAR  MAE: 88.599976558\n",
        "\n",
        "LOG     MSE: 3.84130470976\n",
        "LOG    RMSE: 1.95992466941\n",
        "LOG     MAE: 1.80430775985\n"
       ]
      }
     ],
     "prompt_number": 53
    },
    {
     "cell_type": "markdown",
     "metadata": {},
     "source": [
      "#### Statsmodels\n",
      "In some efforts, statsmodels is another tool in python that provides some similar functionality to sklearn. We will occasionally use it in the future, but wanted to introduce it here as an example of work that may be more familiar to R users in class:"
     ]
    },
    {
     "cell_type": "code",
     "collapsed": false,
     "input": [
      "# run this cell\n",
      "import statsmodels.formula.api as sm\n",
      "fit1 = sm.ols(formula='brain ~ body', data=animals).fit()\n",
      "print fit1.summary()"
     ],
     "language": "python",
     "metadata": {},
     "outputs": [
      {
       "output_type": "stream",
       "stream": "stdout",
       "text": [
        "                            OLS Regression Results                            \n",
        "==============================================================================\n",
        "Dep. Variable:                  brain   R-squared:                       0.873\n",
        "Model:                            OLS   Adj. R-squared:                  0.871\n",
        "Method:                 Least Squares   F-statistic:                     411.2\n",
        "Date:                Sun, 06 Jul 2014   Prob (F-statistic):           1.54e-28\n",
        "Time:                        17:35:52   Log-Likelihood:                -447.38\n",
        "No. Observations:                  62   AIC:                             898.8\n",
        "Df Residuals:                      60   BIC:                             903.0\n",
        "Df Model:                           1                                         \n",
        "==============================================================================\n",
        "                 coef    std err          t      P>|t|      [95.0% Conf. Int.]\n",
        "------------------------------------------------------------------------------\n",
        "Intercept     91.0044     43.553      2.090      0.041         3.886   178.123\n",
        "body           0.9665      0.048     20.278      0.000         0.871     1.062\n",
        "==============================================================================\n",
        "Omnibus:                       92.942   Durbin-Watson:                   2.339\n",
        "Prob(Omnibus):                  0.000   Jarque-Bera (JB):             1738.656\n",
        "Skew:                           4.382   Prob(JB):                         0.00\n",
        "Kurtosis:                      27.417   Cond. No.                         936.\n",
        "==============================================================================\n"
       ]
      }
     ],
     "prompt_number": 54
    },
    {
     "cell_type": "code",
     "collapsed": false,
     "input": [
      "# run this cell\n",
      "fit2 = sm.ols(formula='np.log(brain) ~ np.log(body)', data=animals).fit()\n",
      "print fit2.summary()"
     ],
     "language": "python",
     "metadata": {},
     "outputs": [
      {
       "output_type": "stream",
       "stream": "stdout",
       "text": [
        "                            OLS Regression Results                            \n",
        "==============================================================================\n",
        "Dep. Variable:          np.log(brain)   R-squared:                       0.921\n",
        "Model:                            OLS   Adj. R-squared:                  0.919\n",
        "Method:                 Least Squares   F-statistic:                     697.4\n",
        "Date:                Sun, 06 Jul 2014   Prob (F-statistic):           9.84e-35\n",
        "Time:                        17:35:56   Log-Likelihood:                -64.336\n",
        "No. Observations:                  62   AIC:                             132.7\n",
        "Df Residuals:                      60   BIC:                             136.9\n",
        "Df Model:                           1                                         \n",
        "================================================================================\n",
        "                   coef    std err          t      P>|t|      [95.0% Conf. Int.]\n",
        "--------------------------------------------------------------------------------\n",
        "Intercept        2.1348      0.096     22.227      0.000         1.943     2.327\n",
        "np.log(body)     0.7517      0.028     26.409      0.000         0.695     0.809\n",
        "==============================================================================\n",
        "Omnibus:                        2.698   Durbin-Watson:                   1.980\n",
        "Prob(Omnibus):                  0.260   Jarque-Bera (JB):                1.933\n",
        "Skew:                           0.405   Prob(JB):                        0.380\n",
        "Kurtosis:                       3.301   Cond. No.                         3.73\n",
        "==============================================================================\n"
       ]
      }
     ],
     "prompt_number": 55
    },
    {
     "cell_type": "markdown",
     "metadata": {},
     "source": [
      "# Next steps: Lab submission"
     ]
    },
    {
     "cell_type": "markdown",
     "metadata": {},
     "source": [
      "If you're ambitious and want more practice doing linear regression with sklearn, continue on. Otherwise, please submit this file as a pull request."
     ]
    },
    {
     "cell_type": "markdown",
     "metadata": {},
     "source": [
      "# Optional: Models with Bike Share"
     ]
    },
    {
     "cell_type": "markdown",
     "metadata": {},
     "source": [
      "In folder `/data` you will find bike share data (it is also included in lesson05), with a text file that explains the features included.\n",
      "For a lab submission, include either a python script or an ipython notebook that shows you going through the following steps:\n",
      "\n",
      "1. Go through the ACES model (assemble, clean, explore, subset) for data exploration and analysis\n",
      "2. Evaluate features that contribute to the solution of predicting casual, registered, and cnt\n",
      "3. Build three predictive models that use the numeric data available in order to predict each.\n",
      "\n",
      "If you want to work with non numerical data, consider looking into the pandas feature for <a href='http://pandas.pydata.org/pandas-docs/version/0.13.1/generated/pandas.core.reshape.get_dummies.html'>getting dummy features</a>.\n",
      "\n",
      "Try starting with the `day.csv` file first. Those looking for a challenge, try working on the `hour.csv` file, but first start with the models for `day.csv`.\n",
      "\n",
      "Please submit as much of this as you feel like attempting."
     ]
    },
    {
     "cell_type": "code",
     "collapsed": false,
     "input": [
      "# Casual = count of casual users\n",
      "# Registered: Count of registerd users\n",
      "# CNT: Combined count, aka total\n",
      "\n",
      "# Key Features\n",
      "## Holiday\n",
      "## Weekday\n",
      "## Working Day\n",
      "## Weather Sit\n",
      "## ATemp (feeling temp)\n",
      "## Windspeed\n",
      "## Humidity"
     ],
     "language": "python",
     "metadata": {},
     "outputs": []
    }
   ],
   "metadata": {}
  }
 ]
}