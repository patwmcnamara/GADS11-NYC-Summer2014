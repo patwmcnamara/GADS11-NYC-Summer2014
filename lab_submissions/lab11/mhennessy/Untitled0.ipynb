{
 "metadata": {
  "name": "",
  "signature": "sha256:89c66a5615bcc6c0b6e853a9bbc109115e98b77926c690fecabe5fb4448439ff"
 },
 "nbformat": 3,
 "nbformat_minor": 0,
 "worksheets": [
  {
   "cells": [
    {
     "cell_type": "code",
     "collapsed": false,
     "input": [
      "%install_ext https://raw.github.com/cjdrake/ipython-magic/master/gvmagic.py"
     ],
     "language": "python",
     "metadata": {},
     "outputs": [
      {
       "output_type": "stream",
       "stream": "stdout",
       "text": [
        "Installed gvmagic.py. To use it, type:\n",
        "  %load_ext gvmagic\n"
       ]
      }
     ],
     "prompt_number": 1
    },
    {
     "cell_type": "code",
     "collapsed": false,
     "input": [],
     "language": "python",
     "metadata": {},
     "outputs": []
    }
   ],
   "metadata": {}
  }
 ]
}